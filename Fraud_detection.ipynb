{
 "cells": [
  {
   "cell_type": "markdown",
   "metadata": {},
   "source": [
    "<font size='5'>Fraud Detection:</font>"
   ]
  },
  {
   "cell_type": "markdown",
   "metadata": {},
   "source": [
    "The aim of this project is to detect frauds in financial transactions using Python. The data were collected into several files:\n",
    "the file \"data.csv\" which contains the amounts of the transactions (Montant_transaction) and the types of transactions,\n",
    " the file \"historique.csv\" which contains the amounts of the average shopping bag (Panier_moyen) of each user and number of transactions in the last ten hours (Nombre_Transactions_10_Dernieres_heures) and the file \"fraude.csv\" contains information concerning frauds. We should detect frauds from the files \"test_data.csv\" and \"test_historique.csv\". The metric that I use to evaluate performance will be roc_aus_score."
   ]
  },
  {
   "cell_type": "markdown",
   "metadata": {},
   "source": [
    "We start with importing some useful libraries like pandas, numpy and matplotlib. For implementing Machine Learning models, I will use the scikit-learn library."
   ]
  },
  {
   "cell_type": "code",
   "execution_count": null,
   "metadata": {},
   "outputs": [],
   "source": [
    "import numpy as np \n",
    "import pandas as pd \n",
    "import matplotlib.pyplot as plt\n",
    "%matplotlib inline\n",
    "import seaborn as sns"
   ]
  },
  {
   "cell_type": "markdown",
   "metadata": {},
   "source": [
    "We read our data file. It has two parts \"data\" and \"historique\"."
   ]
  },
  {
   "cell_type": "code",
   "execution_count": 4,
   "metadata": {},
   "outputs": [
    {
     "name": "stdout",
     "output_type": "stream",
     "text": [
      "   id_transaction  Montant_transaction  Type_transaction\n",
      "0               0            80.600541               9.0\n",
      "1               1           135.300834               9.0\n",
      "2               2            64.697647              10.0\n",
      "3               3           129.709763               7.0\n",
      "4               4           197.145729               9.0\n",
      "5               5           112.397940               7.0\n",
      "6               6           141.176796               9.0\n",
      "7               7           281.876321               7.0\n",
      "8               8            69.499287               7.0\n",
      "9               9            22.361063              10.0\n"
     ]
    }
   ],
   "source": [
    "#read the data\n",
    "data = pd.read_csv('../data.csv')\n",
    "historiqe = pd.read_csv('../historique.csv')\n",
    "output = pd.read_csv('../fraude.csv')\n",
    "print(data.head(10))"
   ]
  },
  {
   "cell_type": "code",
   "execution_count": 5,
   "metadata": {},
   "outputs": [
    {
     "name": "stdout",
     "output_type": "stream",
     "text": [
      "   id_transaction  Panier_moyen  Nombre_Transactions_10_Dernieres_heures\n",
      "0               0     70.355644                                        0\n",
      "1               1    167.572760                                        0\n",
      "2               2    149.669170                                        5\n",
      "3               3    131.733207                                        0\n",
      "4               5    158.568678                                        1\n",
      "5               6    209.907891                                        6\n",
      "6               8    130.796898                                        3\n",
      "7              10    193.900513                                        9\n",
      "8              11    244.678756                                        0\n",
      "9              12    210.692532                                        4\n"
     ]
    }
   ],
   "source": [
    "print(historiqe.head(10))"
   ]
  },
  {
   "cell_type": "code",
   "execution_count": 6,
   "metadata": {},
   "outputs": [],
   "source": [
    "test_data = pd.read_csv('../test_data.csv')\n",
    "test_historiqe = pd.read_csv('../test_historique.csv')"
   ]
  },
  {
   "cell_type": "markdown",
   "metadata": {},
   "source": [
    "We can create a new dataframe from \"data\" and \"historique\" by taking union from all columns and filling missing values by NaN and call it \"all_data\". We can do the same for the test set."
   ]
  },
  {
   "cell_type": "code",
   "execution_count": 7,
   "metadata": {},
   "outputs": [],
   "source": [
    "all_data = pd.merge(data, historiqe, how='outer')\n",
    "all_test = pd.merge(test_data, test_historiqe, how='outer')"
   ]
  },
  {
   "cell_type": "code",
   "execution_count": 8,
   "metadata": {},
   "outputs": [
    {
     "name": "stdout",
     "output_type": "stream",
     "text": [
      "<class 'pandas.core.frame.DataFrame'>\n",
      "Int64Index: 2000 entries, 0 to 1999\n",
      "Data columns (total 5 columns):\n",
      "id_transaction                             2000 non-null int64\n",
      "Montant_transaction                        2000 non-null float64\n",
      "Type_transaction                           2000 non-null float64\n",
      "Panier_moyen                               1318 non-null float64\n",
      "Nombre_Transactions_10_Dernieres_heures    1318 non-null float64\n",
      "dtypes: float64(4), int64(1)\n",
      "memory usage: 93.8 KB\n"
     ]
    }
   ],
   "source": [
    "#get some information of our test dataframe for the test set\n",
    "all_test.info()"
   ]
  },
  {
   "cell_type": "markdown",
   "metadata": {},
   "source": [
    "<font size='5'>Understanding the data:</font>"
   ]
  },
  {
   "cell_type": "code",
   "execution_count": 9,
   "metadata": {},
   "outputs": [
    {
     "data": {
      "text/html": [
       "<div>\n",
       "<style scoped>\n",
       "    .dataframe tbody tr th:only-of-type {\n",
       "        vertical-align: middle;\n",
       "    }\n",
       "\n",
       "    .dataframe tbody tr th {\n",
       "        vertical-align: top;\n",
       "    }\n",
       "\n",
       "    .dataframe thead th {\n",
       "        text-align: right;\n",
       "    }\n",
       "</style>\n",
       "<table border=\"1\" class=\"dataframe\">\n",
       "  <thead>\n",
       "    <tr style=\"text-align: right;\">\n",
       "      <th></th>\n",
       "      <th>id_transaction</th>\n",
       "      <th>Montant_transaction</th>\n",
       "      <th>Type_transaction</th>\n",
       "      <th>Panier_moyen</th>\n",
       "      <th>Nombre_Transactions_10_Dernieres_heures</th>\n",
       "    </tr>\n",
       "  </thead>\n",
       "  <tbody>\n",
       "    <tr>\n",
       "      <th>0</th>\n",
       "      <td>0</td>\n",
       "      <td>80.600541</td>\n",
       "      <td>9.0</td>\n",
       "      <td>70.355644</td>\n",
       "      <td>0.0</td>\n",
       "    </tr>\n",
       "    <tr>\n",
       "      <th>1</th>\n",
       "      <td>1</td>\n",
       "      <td>135.300834</td>\n",
       "      <td>9.0</td>\n",
       "      <td>167.572760</td>\n",
       "      <td>0.0</td>\n",
       "    </tr>\n",
       "    <tr>\n",
       "      <th>2</th>\n",
       "      <td>2</td>\n",
       "      <td>64.697647</td>\n",
       "      <td>10.0</td>\n",
       "      <td>149.669170</td>\n",
       "      <td>5.0</td>\n",
       "    </tr>\n",
       "    <tr>\n",
       "      <th>3</th>\n",
       "      <td>3</td>\n",
       "      <td>129.709763</td>\n",
       "      <td>7.0</td>\n",
       "      <td>131.733207</td>\n",
       "      <td>0.0</td>\n",
       "    </tr>\n",
       "    <tr>\n",
       "      <th>4</th>\n",
       "      <td>4</td>\n",
       "      <td>197.145729</td>\n",
       "      <td>9.0</td>\n",
       "      <td>NaN</td>\n",
       "      <td>NaN</td>\n",
       "    </tr>\n",
       "  </tbody>\n",
       "</table>\n",
       "</div>"
      ],
      "text/plain": [
       "   id_transaction  Montant_transaction  Type_transaction  Panier_moyen  \\\n",
       "0               0            80.600541               9.0     70.355644   \n",
       "1               1           135.300834               9.0    167.572760   \n",
       "2               2            64.697647              10.0    149.669170   \n",
       "3               3           129.709763               7.0    131.733207   \n",
       "4               4           197.145729               9.0           NaN   \n",
       "\n",
       "   Nombre_Transactions_10_Dernieres_heures  \n",
       "0                                      0.0  \n",
       "1                                      0.0  \n",
       "2                                      5.0  \n",
       "3                                      0.0  \n",
       "4                                      NaN  "
      ]
     },
     "execution_count": 9,
     "metadata": {},
     "output_type": "execute_result"
    }
   ],
   "source": [
    "all_data.head(5)"
   ]
  },
  {
   "cell_type": "code",
   "execution_count": 10,
   "metadata": {},
   "outputs": [
    {
     "data": {
      "text/plain": [
       "(6000, 5)"
      ]
     },
     "execution_count": 10,
     "metadata": {},
     "output_type": "execute_result"
    }
   ],
   "source": [
    "#see the number of rows and columns\n",
    "all_data.shape"
   ]
  },
  {
   "cell_type": "code",
   "execution_count": 11,
   "metadata": {},
   "outputs": [
    {
     "name": "stdout",
     "output_type": "stream",
     "text": [
      "<class 'pandas.core.frame.DataFrame'>\n",
      "Int64Index: 6000 entries, 0 to 5999\n",
      "Data columns (total 5 columns):\n",
      "id_transaction                             6000 non-null int64\n",
      "Montant_transaction                        6000 non-null float64\n",
      "Type_transaction                           6000 non-null float64\n",
      "Panier_moyen                               4033 non-null float64\n",
      "Nombre_Transactions_10_Dernieres_heures    4033 non-null float64\n",
      "dtypes: float64(4), int64(1)\n",
      "memory usage: 281.2 KB\n"
     ]
    }
   ],
   "source": [
    "#get some information of our dataframe\n",
    "all_data.info()"
   ]
  },
  {
   "cell_type": "markdown",
   "metadata": {},
   "source": [
    "We add the output of our data which is called \"is_fraud\" to the data that we want to work on."
   ]
  },
  {
   "cell_type": "code",
   "execution_count": 12,
   "metadata": {},
   "outputs": [],
   "source": [
    "#add column\"is_fraude\" to our \"all_data\"\n",
    "all_data_output= pd.merge(all_data, output, how='outer')"
   ]
  },
  {
   "cell_type": "code",
   "execution_count": 13,
   "metadata": {},
   "outputs": [
    {
     "data": {
      "text/html": [
       "<div>\n",
       "<style scoped>\n",
       "    .dataframe tbody tr th:only-of-type {\n",
       "        vertical-align: middle;\n",
       "    }\n",
       "\n",
       "    .dataframe tbody tr th {\n",
       "        vertical-align: top;\n",
       "    }\n",
       "\n",
       "    .dataframe thead th {\n",
       "        text-align: right;\n",
       "    }\n",
       "</style>\n",
       "<table border=\"1\" class=\"dataframe\">\n",
       "  <thead>\n",
       "    <tr style=\"text-align: right;\">\n",
       "      <th></th>\n",
       "      <th>id_transaction</th>\n",
       "      <th>Montant_transaction</th>\n",
       "      <th>Type_transaction</th>\n",
       "      <th>Panier_moyen</th>\n",
       "      <th>Nombre_Transactions_10_Dernieres_heures</th>\n",
       "      <th>is_fraud</th>\n",
       "    </tr>\n",
       "  </thead>\n",
       "  <tbody>\n",
       "    <tr>\n",
       "      <th>0</th>\n",
       "      <td>0</td>\n",
       "      <td>80.600541</td>\n",
       "      <td>9.0</td>\n",
       "      <td>70.355644</td>\n",
       "      <td>0.0</td>\n",
       "      <td>0</td>\n",
       "    </tr>\n",
       "    <tr>\n",
       "      <th>1</th>\n",
       "      <td>1</td>\n",
       "      <td>135.300834</td>\n",
       "      <td>9.0</td>\n",
       "      <td>167.572760</td>\n",
       "      <td>0.0</td>\n",
       "      <td>0</td>\n",
       "    </tr>\n",
       "    <tr>\n",
       "      <th>2</th>\n",
       "      <td>2</td>\n",
       "      <td>64.697647</td>\n",
       "      <td>10.0</td>\n",
       "      <td>149.669170</td>\n",
       "      <td>5.0</td>\n",
       "      <td>0</td>\n",
       "    </tr>\n",
       "    <tr>\n",
       "      <th>3</th>\n",
       "      <td>3</td>\n",
       "      <td>129.709763</td>\n",
       "      <td>7.0</td>\n",
       "      <td>131.733207</td>\n",
       "      <td>0.0</td>\n",
       "      <td>0</td>\n",
       "    </tr>\n",
       "    <tr>\n",
       "      <th>4</th>\n",
       "      <td>4</td>\n",
       "      <td>197.145729</td>\n",
       "      <td>9.0</td>\n",
       "      <td>NaN</td>\n",
       "      <td>NaN</td>\n",
       "      <td>0</td>\n",
       "    </tr>\n",
       "    <tr>\n",
       "      <th>5</th>\n",
       "      <td>5</td>\n",
       "      <td>112.397940</td>\n",
       "      <td>7.0</td>\n",
       "      <td>158.568678</td>\n",
       "      <td>1.0</td>\n",
       "      <td>0</td>\n",
       "    </tr>\n",
       "    <tr>\n",
       "      <th>6</th>\n",
       "      <td>6</td>\n",
       "      <td>141.176796</td>\n",
       "      <td>9.0</td>\n",
       "      <td>209.907891</td>\n",
       "      <td>6.0</td>\n",
       "      <td>0</td>\n",
       "    </tr>\n",
       "    <tr>\n",
       "      <th>7</th>\n",
       "      <td>7</td>\n",
       "      <td>281.876321</td>\n",
       "      <td>7.0</td>\n",
       "      <td>NaN</td>\n",
       "      <td>NaN</td>\n",
       "      <td>0</td>\n",
       "    </tr>\n",
       "    <tr>\n",
       "      <th>8</th>\n",
       "      <td>8</td>\n",
       "      <td>69.499287</td>\n",
       "      <td>7.0</td>\n",
       "      <td>130.796898</td>\n",
       "      <td>3.0</td>\n",
       "      <td>0</td>\n",
       "    </tr>\n",
       "    <tr>\n",
       "      <th>9</th>\n",
       "      <td>9</td>\n",
       "      <td>22.361063</td>\n",
       "      <td>10.0</td>\n",
       "      <td>NaN</td>\n",
       "      <td>NaN</td>\n",
       "      <td>0</td>\n",
       "    </tr>\n",
       "  </tbody>\n",
       "</table>\n",
       "</div>"
      ],
      "text/plain": [
       "   id_transaction  Montant_transaction  Type_transaction  Panier_moyen  \\\n",
       "0               0            80.600541               9.0     70.355644   \n",
       "1               1           135.300834               9.0    167.572760   \n",
       "2               2            64.697647              10.0    149.669170   \n",
       "3               3           129.709763               7.0    131.733207   \n",
       "4               4           197.145729               9.0           NaN   \n",
       "5               5           112.397940               7.0    158.568678   \n",
       "6               6           141.176796               9.0    209.907891   \n",
       "7               7           281.876321               7.0           NaN   \n",
       "8               8            69.499287               7.0    130.796898   \n",
       "9               9            22.361063              10.0           NaN   \n",
       "\n",
       "   Nombre_Transactions_10_Dernieres_heures  is_fraud  \n",
       "0                                      0.0         0  \n",
       "1                                      0.0         0  \n",
       "2                                      5.0         0  \n",
       "3                                      0.0         0  \n",
       "4                                      NaN         0  \n",
       "5                                      1.0         0  \n",
       "6                                      6.0         0  \n",
       "7                                      NaN         0  \n",
       "8                                      3.0         0  \n",
       "9                                      NaN         0  "
      ]
     },
     "execution_count": 13,
     "metadata": {},
     "output_type": "execute_result"
    }
   ],
   "source": [
    "#call whole data (that we work on), all_data_output \n",
    "all_data_output.head(10)"
   ]
  },
  {
   "cell_type": "markdown",
   "metadata": {},
   "source": [
    "Let's see the list of features that we have:"
   ]
  },
  {
   "cell_type": "code",
   "execution_count": 14,
   "metadata": {},
   "outputs": [
    {
     "name": "stdout",
     "output_type": "stream",
     "text": [
      "Index(['Montant_transaction', 'Type_transaction', 'Panier_moyen',\n",
      "       'Nombre_Transactions_10_Dernieres_heures'],\n",
      "      dtype='object')\n"
     ]
    }
   ],
   "source": [
    "#list of features\n",
    "features = all_data.drop(['id_transaction'],axis=1).columns\n",
    "print(features)"
   ]
  },
  {
   "cell_type": "code",
   "execution_count": 15,
   "metadata": {},
   "outputs": [
    {
     "data": {
      "text/html": [
       "<div>\n",
       "<style scoped>\n",
       "    .dataframe tbody tr th:only-of-type {\n",
       "        vertical-align: middle;\n",
       "    }\n",
       "\n",
       "    .dataframe tbody tr th {\n",
       "        vertical-align: top;\n",
       "    }\n",
       "\n",
       "    .dataframe thead th {\n",
       "        text-align: right;\n",
       "    }\n",
       "</style>\n",
       "<table border=\"1\" class=\"dataframe\">\n",
       "  <thead>\n",
       "    <tr style=\"text-align: right;\">\n",
       "      <th></th>\n",
       "      <th>id_transaction</th>\n",
       "      <th>Montant_transaction</th>\n",
       "      <th>Type_transaction</th>\n",
       "      <th>Panier_moyen</th>\n",
       "      <th>Nombre_Transactions_10_Dernieres_heures</th>\n",
       "      <th>is_fraud</th>\n",
       "    </tr>\n",
       "  </thead>\n",
       "  <tbody>\n",
       "    <tr>\n",
       "      <th>0</th>\n",
       "      <td>0</td>\n",
       "      <td>80.600541</td>\n",
       "      <td>9.0</td>\n",
       "      <td>70.355644</td>\n",
       "      <td>0.0</td>\n",
       "      <td>0</td>\n",
       "    </tr>\n",
       "    <tr>\n",
       "      <th>1</th>\n",
       "      <td>1</td>\n",
       "      <td>135.300834</td>\n",
       "      <td>9.0</td>\n",
       "      <td>167.572760</td>\n",
       "      <td>0.0</td>\n",
       "      <td>0</td>\n",
       "    </tr>\n",
       "    <tr>\n",
       "      <th>2</th>\n",
       "      <td>2</td>\n",
       "      <td>64.697647</td>\n",
       "      <td>10.0</td>\n",
       "      <td>149.669170</td>\n",
       "      <td>5.0</td>\n",
       "      <td>0</td>\n",
       "    </tr>\n",
       "    <tr>\n",
       "      <th>3</th>\n",
       "      <td>3</td>\n",
       "      <td>129.709763</td>\n",
       "      <td>7.0</td>\n",
       "      <td>131.733207</td>\n",
       "      <td>0.0</td>\n",
       "      <td>0</td>\n",
       "    </tr>\n",
       "    <tr>\n",
       "      <th>4</th>\n",
       "      <td>4</td>\n",
       "      <td>197.145729</td>\n",
       "      <td>9.0</td>\n",
       "      <td>NaN</td>\n",
       "      <td>NaN</td>\n",
       "      <td>0</td>\n",
       "    </tr>\n",
       "  </tbody>\n",
       "</table>\n",
       "</div>"
      ],
      "text/plain": [
       "   id_transaction  Montant_transaction  Type_transaction  Panier_moyen  \\\n",
       "0               0            80.600541               9.0     70.355644   \n",
       "1               1           135.300834               9.0    167.572760   \n",
       "2               2            64.697647              10.0    149.669170   \n",
       "3               3           129.709763               7.0    131.733207   \n",
       "4               4           197.145729               9.0           NaN   \n",
       "\n",
       "   Nombre_Transactions_10_Dernieres_heures  is_fraud  \n",
       "0                                      0.0         0  \n",
       "1                                      0.0         0  \n",
       "2                                      5.0         0  \n",
       "3                                      0.0         0  \n",
       "4                                      NaN         0  "
      ]
     },
     "execution_count": 15,
     "metadata": {},
     "output_type": "execute_result"
    }
   ],
   "source": [
    "all_data_output.head(5)"
   ]
  },
  {
   "cell_type": "markdown",
   "metadata": {},
   "source": [
    "We count the number of missing values in our data."
   ]
  },
  {
   "cell_type": "code",
   "execution_count": 16,
   "metadata": {},
   "outputs": [
    {
     "name": "stdout",
     "output_type": "stream",
     "text": [
      "id_transaction                                0\n",
      "Montant_transaction                           0\n",
      "Type_transaction                              0\n",
      "Panier_moyen                               1967\n",
      "Nombre_Transactions_10_Dernieres_heures    1967\n",
      "dtype: int64\n"
     ]
    }
   ],
   "source": [
    "missing_value = all_data.isnull().sum().copy()\n",
    "print(missing_value)"
   ]
  },
  {
   "cell_type": "markdown",
   "metadata": {},
   "source": [
    "We have many missing values in \"Panier_moyen\" and \"Nombre_Transactions_10_Dernieres_heures\". As we checked the number of the missing values are 1967 over 6000 data corresponding to these two features. The percentage of missing values for \"Panier-moyen\" and \"Nombre_Transactions_10_Dernieres_heures\" is:\n"
   ]
  },
  {
   "cell_type": "code",
   "execution_count": 17,
   "metadata": {},
   "outputs": [
    {
     "name": "stdout",
     "output_type": "stream",
     "text": [
      "percentage of missing values:  32.78333333333333\n"
     ]
    }
   ],
   "source": [
    "print(\"percentage of missing values: \", 1967/6000 *100)"
   ]
  },
  {
   "cell_type": "code",
   "execution_count": 18,
   "metadata": {},
   "outputs": [
    {
     "data": {
      "text/html": [
       "<div>\n",
       "<style scoped>\n",
       "    .dataframe tbody tr th:only-of-type {\n",
       "        vertical-align: middle;\n",
       "    }\n",
       "\n",
       "    .dataframe tbody tr th {\n",
       "        vertical-align: top;\n",
       "    }\n",
       "\n",
       "    .dataframe thead th {\n",
       "        text-align: right;\n",
       "    }\n",
       "</style>\n",
       "<table border=\"1\" class=\"dataframe\">\n",
       "  <thead>\n",
       "    <tr style=\"text-align: right;\">\n",
       "      <th></th>\n",
       "      <th>id_transaction</th>\n",
       "      <th>Montant_transaction</th>\n",
       "      <th>Type_transaction</th>\n",
       "      <th>Panier_moyen</th>\n",
       "      <th>Nombre_Transactions_10_Dernieres_heures</th>\n",
       "      <th>is_fraud</th>\n",
       "    </tr>\n",
       "  </thead>\n",
       "  <tbody>\n",
       "    <tr>\n",
       "      <th>count</th>\n",
       "      <td>6000.000000</td>\n",
       "      <td>6000.000000</td>\n",
       "      <td>6000.000000</td>\n",
       "      <td>4033.000000</td>\n",
       "      <td>4033.000000</td>\n",
       "      <td>6000.000000</td>\n",
       "    </tr>\n",
       "    <tr>\n",
       "      <th>mean</th>\n",
       "      <td>2999.500000</td>\n",
       "      <td>135.056571</td>\n",
       "      <td>7.618333</td>\n",
       "      <td>149.271894</td>\n",
       "      <td>2.912720</td>\n",
       "      <td>0.110000</td>\n",
       "    </tr>\n",
       "    <tr>\n",
       "      <th>std</th>\n",
       "      <td>1732.195139</td>\n",
       "      <td>83.650612</td>\n",
       "      <td>1.730847</td>\n",
       "      <td>49.122507</td>\n",
       "      <td>4.097439</td>\n",
       "      <td>0.312916</td>\n",
       "    </tr>\n",
       "    <tr>\n",
       "      <th>min</th>\n",
       "      <td>0.000000</td>\n",
       "      <td>1.433002</td>\n",
       "      <td>1.000000</td>\n",
       "      <td>-36.032266</td>\n",
       "      <td>0.000000</td>\n",
       "      <td>0.000000</td>\n",
       "    </tr>\n",
       "    <tr>\n",
       "      <th>25%</th>\n",
       "      <td>1499.750000</td>\n",
       "      <td>71.646828</td>\n",
       "      <td>7.000000</td>\n",
       "      <td>116.857273</td>\n",
       "      <td>0.000000</td>\n",
       "      <td>0.000000</td>\n",
       "    </tr>\n",
       "    <tr>\n",
       "      <th>50%</th>\n",
       "      <td>2999.500000</td>\n",
       "      <td>120.250282</td>\n",
       "      <td>7.000000</td>\n",
       "      <td>149.396301</td>\n",
       "      <td>1.000000</td>\n",
       "      <td>0.000000</td>\n",
       "    </tr>\n",
       "    <tr>\n",
       "      <th>75%</th>\n",
       "      <td>4499.250000</td>\n",
       "      <td>183.882505</td>\n",
       "      <td>9.000000</td>\n",
       "      <td>182.530784</td>\n",
       "      <td>5.000000</td>\n",
       "      <td>0.000000</td>\n",
       "    </tr>\n",
       "    <tr>\n",
       "      <th>max</th>\n",
       "      <td>5999.000000</td>\n",
       "      <td>516.179216</td>\n",
       "      <td>10.000000</td>\n",
       "      <td>307.453916</td>\n",
       "      <td>25.000000</td>\n",
       "      <td>1.000000</td>\n",
       "    </tr>\n",
       "  </tbody>\n",
       "</table>\n",
       "</div>"
      ],
      "text/plain": [
       "       id_transaction  Montant_transaction  Type_transaction  Panier_moyen  \\\n",
       "count     6000.000000          6000.000000       6000.000000   4033.000000   \n",
       "mean      2999.500000           135.056571          7.618333    149.271894   \n",
       "std       1732.195139            83.650612          1.730847     49.122507   \n",
       "min          0.000000             1.433002          1.000000    -36.032266   \n",
       "25%       1499.750000            71.646828          7.000000    116.857273   \n",
       "50%       2999.500000           120.250282          7.000000    149.396301   \n",
       "75%       4499.250000           183.882505          9.000000    182.530784   \n",
       "max       5999.000000           516.179216         10.000000    307.453916   \n",
       "\n",
       "       Nombre_Transactions_10_Dernieres_heures     is_fraud  \n",
       "count                              4033.000000  6000.000000  \n",
       "mean                                  2.912720     0.110000  \n",
       "std                                   4.097439     0.312916  \n",
       "min                                   0.000000     0.000000  \n",
       "25%                                   0.000000     0.000000  \n",
       "50%                                   1.000000     0.000000  \n",
       "75%                                   5.000000     0.000000  \n",
       "max                                  25.000000     1.000000  "
      ]
     },
     "execution_count": 18,
     "metadata": {},
     "output_type": "execute_result"
    }
   ],
   "source": [
    "all_data_output.describe()"
   ]
  },
  {
   "cell_type": "markdown",
   "metadata": {},
   "source": [
    "We can see the data corresponding to the fraud and valid cases."
   ]
  },
  {
   "cell_type": "code",
   "execution_count": 19,
   "metadata": {},
   "outputs": [],
   "source": [
    "fraud = all_data_output[all_data_output['is_fraud']==1]\n",
    "non_fraud = all_data_output[all_data_output['is_fraud']==0]"
   ]
  },
  {
   "cell_type": "code",
   "execution_count": 20,
   "metadata": {},
   "outputs": [
    {
     "data": {
      "text/html": [
       "<div>\n",
       "<style scoped>\n",
       "    .dataframe tbody tr th:only-of-type {\n",
       "        vertical-align: middle;\n",
       "    }\n",
       "\n",
       "    .dataframe tbody tr th {\n",
       "        vertical-align: top;\n",
       "    }\n",
       "\n",
       "    .dataframe thead th {\n",
       "        text-align: right;\n",
       "    }\n",
       "</style>\n",
       "<table border=\"1\" class=\"dataframe\">\n",
       "  <thead>\n",
       "    <tr style=\"text-align: right;\">\n",
       "      <th></th>\n",
       "      <th>id_transaction</th>\n",
       "      <th>Montant_transaction</th>\n",
       "      <th>Type_transaction</th>\n",
       "      <th>Panier_moyen</th>\n",
       "      <th>Nombre_Transactions_10_Dernieres_heures</th>\n",
       "      <th>is_fraud</th>\n",
       "    </tr>\n",
       "  </thead>\n",
       "  <tbody>\n",
       "    <tr>\n",
       "      <th>10</th>\n",
       "      <td>10</td>\n",
       "      <td>49.509656</td>\n",
       "      <td>9.0</td>\n",
       "      <td>193.900513</td>\n",
       "      <td>9.0</td>\n",
       "      <td>1</td>\n",
       "    </tr>\n",
       "    <tr>\n",
       "      <th>17</th>\n",
       "      <td>17</td>\n",
       "      <td>189.437661</td>\n",
       "      <td>9.0</td>\n",
       "      <td>96.318465</td>\n",
       "      <td>7.0</td>\n",
       "      <td>1</td>\n",
       "    </tr>\n",
       "    <tr>\n",
       "      <th>20</th>\n",
       "      <td>20</td>\n",
       "      <td>49.941138</td>\n",
       "      <td>9.0</td>\n",
       "      <td>NaN</td>\n",
       "      <td>NaN</td>\n",
       "      <td>1</td>\n",
       "    </tr>\n",
       "    <tr>\n",
       "      <th>24</th>\n",
       "      <td>24</td>\n",
       "      <td>39.660168</td>\n",
       "      <td>1.0</td>\n",
       "      <td>184.193752</td>\n",
       "      <td>9.0</td>\n",
       "      <td>1</td>\n",
       "    </tr>\n",
       "    <tr>\n",
       "      <th>26</th>\n",
       "      <td>26</td>\n",
       "      <td>98.209486</td>\n",
       "      <td>10.0</td>\n",
       "      <td>135.691299</td>\n",
       "      <td>14.0</td>\n",
       "      <td>1</td>\n",
       "    </tr>\n",
       "    <tr>\n",
       "      <th>32</th>\n",
       "      <td>32</td>\n",
       "      <td>127.194603</td>\n",
       "      <td>9.0</td>\n",
       "      <td>205.575025</td>\n",
       "      <td>11.0</td>\n",
       "      <td>1</td>\n",
       "    </tr>\n",
       "    <tr>\n",
       "      <th>53</th>\n",
       "      <td>53</td>\n",
       "      <td>203.008024</td>\n",
       "      <td>1.0</td>\n",
       "      <td>NaN</td>\n",
       "      <td>NaN</td>\n",
       "      <td>1</td>\n",
       "    </tr>\n",
       "    <tr>\n",
       "      <th>87</th>\n",
       "      <td>87</td>\n",
       "      <td>144.491064</td>\n",
       "      <td>9.0</td>\n",
       "      <td>NaN</td>\n",
       "      <td>NaN</td>\n",
       "      <td>1</td>\n",
       "    </tr>\n",
       "    <tr>\n",
       "      <th>99</th>\n",
       "      <td>99</td>\n",
       "      <td>95.661283</td>\n",
       "      <td>9.0</td>\n",
       "      <td>NaN</td>\n",
       "      <td>NaN</td>\n",
       "      <td>1</td>\n",
       "    </tr>\n",
       "    <tr>\n",
       "      <th>117</th>\n",
       "      <td>117</td>\n",
       "      <td>126.681737</td>\n",
       "      <td>9.0</td>\n",
       "      <td>NaN</td>\n",
       "      <td>NaN</td>\n",
       "      <td>1</td>\n",
       "    </tr>\n",
       "  </tbody>\n",
       "</table>\n",
       "</div>"
      ],
      "text/plain": [
       "     id_transaction  Montant_transaction  Type_transaction  Panier_moyen  \\\n",
       "10               10            49.509656               9.0    193.900513   \n",
       "17               17           189.437661               9.0     96.318465   \n",
       "20               20            49.941138               9.0           NaN   \n",
       "24               24            39.660168               1.0    184.193752   \n",
       "26               26            98.209486              10.0    135.691299   \n",
       "32               32           127.194603               9.0    205.575025   \n",
       "53               53           203.008024               1.0           NaN   \n",
       "87               87           144.491064               9.0           NaN   \n",
       "99               99            95.661283               9.0           NaN   \n",
       "117             117           126.681737               9.0           NaN   \n",
       "\n",
       "     Nombre_Transactions_10_Dernieres_heures  is_fraud  \n",
       "10                                       9.0         1  \n",
       "17                                       7.0         1  \n",
       "20                                       NaN         1  \n",
       "24                                       9.0         1  \n",
       "26                                      14.0         1  \n",
       "32                                      11.0         1  \n",
       "53                                       NaN         1  \n",
       "87                                       NaN         1  \n",
       "99                                       NaN         1  \n",
       "117                                      NaN         1  "
      ]
     },
     "execution_count": 20,
     "metadata": {},
     "output_type": "execute_result"
    }
   ],
   "source": [
    "fraud.head(10)"
   ]
  },
  {
   "cell_type": "code",
   "execution_count": 21,
   "metadata": {},
   "outputs": [
    {
     "data": {
      "text/html": [
       "<div>\n",
       "<style scoped>\n",
       "    .dataframe tbody tr th:only-of-type {\n",
       "        vertical-align: middle;\n",
       "    }\n",
       "\n",
       "    .dataframe tbody tr th {\n",
       "        vertical-align: top;\n",
       "    }\n",
       "\n",
       "    .dataframe thead th {\n",
       "        text-align: right;\n",
       "    }\n",
       "</style>\n",
       "<table border=\"1\" class=\"dataframe\">\n",
       "  <thead>\n",
       "    <tr style=\"text-align: right;\">\n",
       "      <th></th>\n",
       "      <th>id_transaction</th>\n",
       "      <th>Montant_transaction</th>\n",
       "      <th>Type_transaction</th>\n",
       "      <th>Panier_moyen</th>\n",
       "      <th>Nombre_Transactions_10_Dernieres_heures</th>\n",
       "      <th>is_fraud</th>\n",
       "    </tr>\n",
       "  </thead>\n",
       "  <tbody>\n",
       "    <tr>\n",
       "      <th>0</th>\n",
       "      <td>0</td>\n",
       "      <td>80.600541</td>\n",
       "      <td>9.0</td>\n",
       "      <td>70.355644</td>\n",
       "      <td>0.0</td>\n",
       "      <td>0</td>\n",
       "    </tr>\n",
       "    <tr>\n",
       "      <th>1</th>\n",
       "      <td>1</td>\n",
       "      <td>135.300834</td>\n",
       "      <td>9.0</td>\n",
       "      <td>167.572760</td>\n",
       "      <td>0.0</td>\n",
       "      <td>0</td>\n",
       "    </tr>\n",
       "    <tr>\n",
       "      <th>2</th>\n",
       "      <td>2</td>\n",
       "      <td>64.697647</td>\n",
       "      <td>10.0</td>\n",
       "      <td>149.669170</td>\n",
       "      <td>5.0</td>\n",
       "      <td>0</td>\n",
       "    </tr>\n",
       "    <tr>\n",
       "      <th>3</th>\n",
       "      <td>3</td>\n",
       "      <td>129.709763</td>\n",
       "      <td>7.0</td>\n",
       "      <td>131.733207</td>\n",
       "      <td>0.0</td>\n",
       "      <td>0</td>\n",
       "    </tr>\n",
       "    <tr>\n",
       "      <th>4</th>\n",
       "      <td>4</td>\n",
       "      <td>197.145729</td>\n",
       "      <td>9.0</td>\n",
       "      <td>NaN</td>\n",
       "      <td>NaN</td>\n",
       "      <td>0</td>\n",
       "    </tr>\n",
       "    <tr>\n",
       "      <th>5</th>\n",
       "      <td>5</td>\n",
       "      <td>112.397940</td>\n",
       "      <td>7.0</td>\n",
       "      <td>158.568678</td>\n",
       "      <td>1.0</td>\n",
       "      <td>0</td>\n",
       "    </tr>\n",
       "    <tr>\n",
       "      <th>6</th>\n",
       "      <td>6</td>\n",
       "      <td>141.176796</td>\n",
       "      <td>9.0</td>\n",
       "      <td>209.907891</td>\n",
       "      <td>6.0</td>\n",
       "      <td>0</td>\n",
       "    </tr>\n",
       "    <tr>\n",
       "      <th>7</th>\n",
       "      <td>7</td>\n",
       "      <td>281.876321</td>\n",
       "      <td>7.0</td>\n",
       "      <td>NaN</td>\n",
       "      <td>NaN</td>\n",
       "      <td>0</td>\n",
       "    </tr>\n",
       "    <tr>\n",
       "      <th>8</th>\n",
       "      <td>8</td>\n",
       "      <td>69.499287</td>\n",
       "      <td>7.0</td>\n",
       "      <td>130.796898</td>\n",
       "      <td>3.0</td>\n",
       "      <td>0</td>\n",
       "    </tr>\n",
       "    <tr>\n",
       "      <th>9</th>\n",
       "      <td>9</td>\n",
       "      <td>22.361063</td>\n",
       "      <td>10.0</td>\n",
       "      <td>NaN</td>\n",
       "      <td>NaN</td>\n",
       "      <td>0</td>\n",
       "    </tr>\n",
       "  </tbody>\n",
       "</table>\n",
       "</div>"
      ],
      "text/plain": [
       "   id_transaction  Montant_transaction  Type_transaction  Panier_moyen  \\\n",
       "0               0            80.600541               9.0     70.355644   \n",
       "1               1           135.300834               9.0    167.572760   \n",
       "2               2            64.697647              10.0    149.669170   \n",
       "3               3           129.709763               7.0    131.733207   \n",
       "4               4           197.145729               9.0           NaN   \n",
       "5               5           112.397940               7.0    158.568678   \n",
       "6               6           141.176796               9.0    209.907891   \n",
       "7               7           281.876321               7.0           NaN   \n",
       "8               8            69.499287               7.0    130.796898   \n",
       "9               9            22.361063              10.0           NaN   \n",
       "\n",
       "   Nombre_Transactions_10_Dernieres_heures  is_fraud  \n",
       "0                                      0.0         0  \n",
       "1                                      0.0         0  \n",
       "2                                      5.0         0  \n",
       "3                                      0.0         0  \n",
       "4                                      NaN         0  \n",
       "5                                      1.0         0  \n",
       "6                                      6.0         0  \n",
       "7                                      NaN         0  \n",
       "8                                      3.0         0  \n",
       "9                                      NaN         0  "
      ]
     },
     "execution_count": 21,
     "metadata": {},
     "output_type": "execute_result"
    }
   ],
   "source": [
    "non_fraud.head(10)"
   ]
  },
  {
   "cell_type": "code",
   "execution_count": 22,
   "metadata": {},
   "outputs": [
    {
     "name": "stdout",
     "output_type": "stream",
     "text": [
      "average of panier moyen of fraud transaction:  140.30379953268763\n",
      "average of panier moyen of valid transaction:  150.38415737473633\n"
     ]
    }
   ],
   "source": [
    "print('average of panier moyen of fraud transaction: ', fraud['Panier_moyen'].dropna().mean())\n",
    "print('average of panier moyen of valid transaction: ', non_fraud['Panier_moyen'].dropna().mean())"
   ]
  },
  {
   "cell_type": "markdown",
   "metadata": {},
   "source": [
    "To see how the data in the feature \"Panier-moyen\" is distributed we plot the following diagram:"
   ]
  },
  {
   "cell_type": "code",
   "execution_count": 23,
   "metadata": {},
   "outputs": [
    {
     "data": {
      "image/png": "[encoded data removed]",
      "text/plain": [
       "<Figure size 432x288 with 1 Axes>"
      ]
     },
     "metadata": {
      "needs_background": "light"
     },
     "output_type": "display_data"
    }
   ],
   "source": [
    "sns.distplot(all_data_output['Panier_moyen'].dropna(), kde=False, bins=30)\n",
    "plt.show()"
   ]
  },
  {
   "cell_type": "code",
   "execution_count": 24,
   "metadata": {},
   "outputs": [
    {
     "data": {
      "image/png": "[encoded data removed]",
      "text/plain": [
       "<Figure size 432x288 with 1 Axes>"
      ]
     },
     "metadata": {
      "needs_background": "light"
     },
     "output_type": "display_data"
    }
   ],
   "source": [
    "#to see how the feature \"Montant_transaction\" is distributed\n",
    "sns.distplot(all_data_output['Montant_transaction'], kde=False, bins=30)\n",
    "plt.show()"
   ]
  },
  {
   "cell_type": "code",
   "execution_count": 25,
   "metadata": {},
   "outputs": [
    {
     "data": {
      "image/png": "[encoded data removed]",
      "text/plain": [
       "<Figure size 432x288 with 1 Axes>"
      ]
     },
     "metadata": {
      "needs_background": "light"
     },
     "output_type": "display_data"
    }
   ],
   "source": [
    "#to see how the feature \"Nombre_Transactions_10_Dernieres_heures\" is distributed\n",
    "sns.distplot(all_data_output['Nombre_Transactions_10_Dernieres_heures'].dropna(), kde=False, bins=15)\n",
    "plt.show()"
   ]
  },
  {
   "cell_type": "code",
   "execution_count": 26,
   "metadata": {},
   "outputs": [
    {
     "data": {
      "text/plain": [
       "<seaborn.axisgrid.FacetGrid at 0x11f6cb198>"
      ]
     },
     "execution_count": 26,
     "metadata": {},
     "output_type": "execute_result"
    },
    {
     "data": {
      "image/png": "[encoded data removed]",
      "text/plain": [
       "<Figure size 432x216 with 2 Axes>"
      ]
     },
     "metadata": {
      "needs_background": "light"
     },
     "output_type": "display_data"
    }
   ],
   "source": [
    "# To see how the data in 'Nombre_Transactions_10_Dernieres_heures' is distributed for valid and fraud transactions:\n",
    "h = sns.FacetGrid(all_data_output, col='is_fraud')\n",
    "h.map(plt.hist, 'Nombre_Transactions_10_Dernieres_heures', bins=15)"
   ]
  },
  {
   "cell_type": "code",
   "execution_count": 27,
   "metadata": {},
   "outputs": [
    {
     "data": {
      "text/plain": [
       "<seaborn.axisgrid.FacetGrid at 0x11f8d03c8>"
      ]
     },
     "execution_count": 27,
     "metadata": {},
     "output_type": "execute_result"
    },
    {
     "data": {
      "image/png": "[encoded data removed]",
      "text/plain": [
       "<Figure size 432x216 with 2 Axes>"
      ]
     },
     "metadata": {
      "needs_background": "light"
     },
     "output_type": "display_data"
    }
   ],
   "source": [
    "g = sns.FacetGrid(all_data_output, col='is_fraud')\n",
    "g.map(plt.hist, 'Panier_moyen', bins=15)"
   ]
  },
  {
   "cell_type": "markdown",
   "metadata": {},
   "source": [
    "We compute the percentage of valid and fraud transactions in the whole transactions."
   ]
  },
  {
   "cell_type": "code",
   "execution_count": 28,
   "metadata": {},
   "outputs": [
    {
     "name": "stdout",
     "output_type": "stream",
     "text": [
      "Number of fraud transaction:  660\n",
      "Percentage of fraud transaction:  11%\n",
      "Number of valid transaction:  5340\n",
      "Percentage of valid transaction:  89%\n",
      "our data is imbalanced!\n"
     ]
    }
   ],
   "source": [
    "output_fraud = output[output['is_fraud']==1]\n",
    "num_fraud = len(output_fraud)\n",
    "\n",
    "print(\"Number of fraud transaction: \",num_fraud)\n",
    "print(\"Percentage of fraud transaction: \",\"{:.0%}\".format(num_fraud/float(len(output)))) \n",
    "\n",
    "output_non_fraud = output[output['is_fraud']==0]\n",
    "num_non_fraud = len(output_non_fraud)\n",
    "print(\"Number of valid transaction: \",num_non_fraud)\n",
    "print(\"Percentage of valid transaction: \", \"{:.0%}\".format(num_non_fraud/float(len(output))))\n",
    "#our data is imbalanced! \n",
    "print('our data is imbalanced!')"
   ]
  },
  {
   "cell_type": "code",
   "execution_count": 29,
   "metadata": {},
   "outputs": [
    {
     "name": "stdout",
     "output_type": "stream",
     "text": [
      "0.12359550561797752\n"
     ]
    }
   ],
   "source": [
    "#The poroportion of fraud transactions compared to valid transactions\n",
    "prop_fraud = num_fraud/num_non_fraud\n",
    "print(prop_fraud)"
   ]
  },
  {
   "cell_type": "markdown",
   "metadata": {},
   "source": [
    "What is mean, max, min , ... of each faeture in the fraud cases?"
   ]
  },
  {
   "cell_type": "code",
   "execution_count": 30,
   "metadata": {},
   "outputs": [
    {
     "data": {
      "text/plain": [
       "count    660.000000\n",
       "mean     174.423904\n",
       "std      102.599098\n",
       "min        8.193736\n",
       "25%       89.270040\n",
       "50%      158.288193\n",
       "75%      240.216924\n",
       "max      512.208842\n",
       "Name: Montant_transaction, dtype: float64"
      ]
     },
     "execution_count": 30,
     "metadata": {},
     "output_type": "execute_result"
    }
   ],
   "source": [
    "fraud.Montant_transaction.describe()"
   ]
  },
  {
   "cell_type": "markdown",
   "metadata": {},
   "source": [
    "Let's see which types of transactions are more used."
   ]
  },
  {
   "cell_type": "code",
   "execution_count": 31,
   "metadata": {},
   "outputs": [
    {
     "data": {
      "image/png": "[encoded data removed]",
      "text/plain": [
       "<Figure size 360x360 with 1 Axes>"
      ]
     },
     "metadata": {
      "needs_background": "light"
     },
     "output_type": "display_data"
    }
   ],
   "source": [
    "sns.catplot(x='Type_transaction',kind='count',data=all_data_output)\n",
    "plt.show()"
   ]
  },
  {
   "cell_type": "markdown",
   "metadata": {},
   "source": [
    "There are some types of transactions that are not used in our data. The transactions of types 9 and 7 are more used."
   ]
  },
  {
   "cell_type": "code",
   "execution_count": 32,
   "metadata": {},
   "outputs": [
    {
     "name": "stdout",
     "output_type": "stream",
     "text": [
      "number of transactions of type 7:  3370\n",
      "number of transactions of type 9:  1849\n"
     ]
    }
   ],
   "source": [
    "print('number of transactions of type 7: ', len(all_data_output[all_data_output['Type_transaction']==7]))\n",
    "print('number of transactions of type 9: ', len(all_data_output[all_data_output['Type_transaction']==9]))"
   ]
  },
  {
   "cell_type": "markdown",
   "metadata": {},
   "source": [
    "In which types of transactions, there are more fraud?"
   ]
  },
  {
   "cell_type": "code",
   "execution_count": 33,
   "metadata": {},
   "outputs": [
    {
     "name": "stdout",
     "output_type": "stream",
     "text": [
      "1 62\n",
      "2 19\n",
      "3 0\n",
      "4 0\n",
      "5 0\n",
      "6 0\n",
      "7 167\n",
      "8 0\n",
      "9 361\n",
      "10 51\n"
     ]
    }
   ],
   "source": [
    "type_trans = range(1,11)\n",
    "for i in type_trans:\n",
    "    print(i, len(fraud[fraud['Type_transaction']==i]))   "
   ]
  },
  {
   "cell_type": "markdown",
   "metadata": {},
   "source": [
    "In the types 9,7,1,10, 2 we have fraud transactions. In type 9 (Recurring E-commerce) \n",
    "and 7 (E-commerce with SSL/TLS Encryption) we have more fraud transactions among all.\n",
    "In types 3, 4, 5, 6, 8, no fraud transactions happened.\n"
   ]
  },
  {
   "cell_type": "code",
   "execution_count": 34,
   "metadata": {},
   "outputs": [],
   "source": [
    "#the percentage of fraud transactions in each type with respect to all types of transactions\n",
    "ls_fraud = []\n",
    "for i in range(1,11):\n",
    "    ls_fraud.append(\"{:.2f}\".format(len(fraud[fraud['Type_transaction']==i])/len(output_fraud)*100))#\n",
    "\n",
    "results_fraud = pd.DataFrame({\n",
    "    'type fraud': ['type1', 'type2', 'type3', \n",
    "              'type4', 'type5', 'type6', \n",
    "              'type7', \n",
    "              'type8','type9', 'type10'],\n",
    "    'percent of fraud(%)': ls_fraud})"
   ]
  },
  {
   "cell_type": "code",
   "execution_count": 35,
   "metadata": {},
   "outputs": [
    {
     "name": "stdout",
     "output_type": "stream",
     "text": [
      "  type fraud percent of fraud(%)\n",
      "0      type1                9.39\n",
      "1      type2                2.88\n",
      "2      type3                0.00\n",
      "3      type4                0.00\n",
      "4      type5                0.00\n",
      "5      type6                0.00\n",
      "6      type7               25.30\n",
      "7      type8                0.00\n",
      "8      type9               54.70\n",
      "9     type10                7.73\n"
     ]
    }
   ],
   "source": [
    "print(results_fraud)"
   ]
  },
  {
   "cell_type": "markdown",
   "metadata": {},
   "source": [
    "By looking at the data, we can see whenever the number of transactions in the lat 10 hours became more and more, the chance of having fraud transactions is higher."
   ]
  },
  {
   "cell_type": "code",
   "execution_count": 36,
   "metadata": {
    "scrolled": true
   },
   "outputs": [
    {
     "data": {
      "image/png": "[encoded data removed]",
      "text/plain": [
       "<Figure size 1512x432 with 1 Axes>"
      ]
     },
     "metadata": {
      "needs_background": "light"
     },
     "output_type": "display_data"
    }
   ],
   "source": [
    "plt.figure(figsize=(21,6))\n",
    "sns.barplot(x=all_data_output['Nombre_Transactions_10_Dernieres_heures'], y=all_data_output['is_fraud'])\n",
    "plt.show()"
   ]
  },
  {
   "cell_type": "code",
   "execution_count": 37,
   "metadata": {},
   "outputs": [
    {
     "data": {
      "image/png": "[encoded data removed]",
      "text/plain": [
       "<Figure size 504x504 with 2 Axes>"
      ]
     },
     "metadata": {
      "needs_background": "light"
     },
     "output_type": "display_data"
    }
   ],
   "source": [
    "# see the correlations between features\n",
    "Z = all_data_output\n",
    "corrmat = Z.corr()\n",
    "fig = plt.figure(figsize = (7, 7))\n",
    "sns.heatmap(corrmat, vmax = 1, square = True)\n",
    "plt.show()"
   ]
  },
  {
   "cell_type": "markdown",
   "metadata": {},
   "source": [
    "We can see that the number of transactions in the last 10 hours can be the most effective feature for detecting fraud."
   ]
  },
  {
   "cell_type": "markdown",
   "metadata": {},
   "source": [
    "Let's see the average, min, max, ... of the \"number of transactions in the last 10 hours\" in valid and fraud transactions."
   ]
  },
  {
   "cell_type": "code",
   "execution_count": 38,
   "metadata": {},
   "outputs": [
    {
     "data": {
      "image/png": "[encoded data removed]",
      "text/plain": [
       "<Figure size 504x432 with 1 Axes>"
      ]
     },
     "metadata": {
      "needs_background": "light"
     },
     "output_type": "display_data"
    }
   ],
   "source": [
    "plt.figure(figsize=(7,6))\n",
    "sns.boxplot(x='is_fraud', y='Nombre_Transactions_10_Dernieres_heures', data=all_data_output)\n",
    "plt.show()"
   ]
  },
  {
   "cell_type": "code",
   "execution_count": 39,
   "metadata": {},
   "outputs": [
    {
     "data": {
      "image/png": "[encoded data removed]",
      "text/plain": [
       "<Figure size 504x432 with 1 Axes>"
      ]
     },
     "metadata": {
      "needs_background": "light"
     },
     "output_type": "display_data"
    }
   ],
   "source": [
    "#see the average, min, max, ... of the amount of transaction for valid and fraud transactions\n",
    "plt.figure(figsize=(7,6))\n",
    "sns.boxplot(x='is_fraud', y='Montant_transaction', data=all_data_output)\n",
    "plt.show()"
   ]
  },
  {
   "cell_type": "markdown",
   "metadata": {},
   "source": [
    "Since the id_transaction doesn't have sense for detecting fraud, we can remove it"
   ]
  },
  {
   "cell_type": "code",
   "execution_count": 40,
   "metadata": {},
   "outputs": [],
   "source": [
    "all_data_output.drop(['id_transaction'], axis = 1, inplace= True)"
   ]
  },
  {
   "cell_type": "code",
   "execution_count": 41,
   "metadata": {},
   "outputs": [
    {
     "data": {
      "text/html": [
       "<div>\n",
       "<style scoped>\n",
       "    .dataframe tbody tr th:only-of-type {\n",
       "        vertical-align: middle;\n",
       "    }\n",
       "\n",
       "    .dataframe tbody tr th {\n",
       "        vertical-align: top;\n",
       "    }\n",
       "\n",
       "    .dataframe thead th {\n",
       "        text-align: right;\n",
       "    }\n",
       "</style>\n",
       "<table border=\"1\" class=\"dataframe\">\n",
       "  <thead>\n",
       "    <tr style=\"text-align: right;\">\n",
       "      <th></th>\n",
       "      <th>Montant_transaction</th>\n",
       "      <th>Type_transaction</th>\n",
       "      <th>Panier_moyen</th>\n",
       "      <th>Nombre_Transactions_10_Dernieres_heures</th>\n",
       "      <th>is_fraud</th>\n",
       "    </tr>\n",
       "  </thead>\n",
       "  <tbody>\n",
       "    <tr>\n",
       "      <th>0</th>\n",
       "      <td>80.600541</td>\n",
       "      <td>9.0</td>\n",
       "      <td>70.355644</td>\n",
       "      <td>0.0</td>\n",
       "      <td>0</td>\n",
       "    </tr>\n",
       "    <tr>\n",
       "      <th>1</th>\n",
       "      <td>135.300834</td>\n",
       "      <td>9.0</td>\n",
       "      <td>167.572760</td>\n",
       "      <td>0.0</td>\n",
       "      <td>0</td>\n",
       "    </tr>\n",
       "    <tr>\n",
       "      <th>2</th>\n",
       "      <td>64.697647</td>\n",
       "      <td>10.0</td>\n",
       "      <td>149.669170</td>\n",
       "      <td>5.0</td>\n",
       "      <td>0</td>\n",
       "    </tr>\n",
       "    <tr>\n",
       "      <th>3</th>\n",
       "      <td>129.709763</td>\n",
       "      <td>7.0</td>\n",
       "      <td>131.733207</td>\n",
       "      <td>0.0</td>\n",
       "      <td>0</td>\n",
       "    </tr>\n",
       "    <tr>\n",
       "      <th>4</th>\n",
       "      <td>197.145729</td>\n",
       "      <td>9.0</td>\n",
       "      <td>NaN</td>\n",
       "      <td>NaN</td>\n",
       "      <td>0</td>\n",
       "    </tr>\n",
       "  </tbody>\n",
       "</table>\n",
       "</div>"
      ],
      "text/plain": [
       "   Montant_transaction  Type_transaction  Panier_moyen  \\\n",
       "0            80.600541               9.0     70.355644   \n",
       "1           135.300834               9.0    167.572760   \n",
       "2            64.697647              10.0    149.669170   \n",
       "3           129.709763               7.0    131.733207   \n",
       "4           197.145729               9.0           NaN   \n",
       "\n",
       "   Nombre_Transactions_10_Dernieres_heures  is_fraud  \n",
       "0                                      0.0         0  \n",
       "1                                      0.0         0  \n",
       "2                                      5.0         0  \n",
       "3                                      0.0         0  \n",
       "4                                      NaN         0  "
      ]
     },
     "execution_count": 41,
     "metadata": {},
     "output_type": "execute_result"
    }
   ],
   "source": [
    "all_data_output.head(5)"
   ]
  },
  {
   "cell_type": "markdown",
   "metadata": {},
   "source": [
    "<font size='5'>Preprocessing the data and making a model:</font>"
   ]
  },
  {
   "cell_type": "markdown",
   "metadata": {},
   "source": [
    "We need to impute the missing values and build different models to check which model has better performance with our imputing. We use pipleline for this purpose to make this process faster."
   ]
  },
  {
   "cell_type": "code",
   "execution_count": 42,
   "metadata": {},
   "outputs": [],
   "source": [
    "from sklearn.impute import KNNImputer\n",
    "from sklearn.compose import ColumnTransformer\n",
    "from sklearn.pipeline import Pipeline"
   ]
  },
  {
   "cell_type": "markdown",
   "metadata": {},
   "source": [
    "Since in the \"Nombre_Transactions_10_Dernieres_heures\" we have many zeros, the average and median can not be good values to be used for missing values. For example the median of the data for 'Nombre_Transactions_10_Dernieres_heures' is zero and it can not be proper value for detecting fraud. We can handle the missing values using KNNImputr for our data."
   ]
  },
  {
   "cell_type": "markdown",
   "metadata": {},
   "source": [
    "Let's create several models:"
   ]
  },
  {
   "cell_type": "code",
   "execution_count": 43,
   "metadata": {},
   "outputs": [],
   "source": [
    "from sklearn.impute import KNNImputer\n",
    "from sklearn.ensemble import RandomForestClassifier\n",
    "\n",
    "my_imputer = KNNImputer(n_neighbors = 5, weights='uniform', metric='nan_euclidean', copy = True)\n",
    "random_forest = RandomForestClassifier(n_estimators=50,random_state=0)\n",
    "\n",
    "my_model_1 = Pipeline(steps=[\n",
    "('imputer', my_imputer),\n",
    "('model', random_forest)])"
   ]
  },
  {
   "cell_type": "code",
   "execution_count": 44,
   "metadata": {},
   "outputs": [],
   "source": [
    "from sklearn.linear_model import LogisticRegression\n",
    "logreg = LogisticRegression(random_state=0)\n",
    "\n",
    "my_model_2 = Pipeline(steps=[\n",
    "('imputer', my_imputer),\n",
    "('model', logreg)])"
   ]
  },
  {
   "cell_type": "code",
   "execution_count": 45,
   "metadata": {},
   "outputs": [],
   "source": [
    "from sklearn.naive_bayes import GaussianNB\n",
    "gaussian_nb = GaussianNB()\n",
    "\n",
    "my_model_3 = Pipeline(steps=[\n",
    "('imputer', my_imputer),\n",
    "('model', gaussian_nb)])"
   ]
  },
  {
   "cell_type": "code",
   "execution_count": 46,
   "metadata": {},
   "outputs": [],
   "source": [
    "from sklearn.svm import SVC, LinearSVC\n",
    "linear_svc = LinearSVC(random_state=0, max_iter=1000)\n",
    "\n",
    "my_model_4 = Pipeline(steps=[\n",
    "('imputer', my_imputer),\n",
    "('model', linear_svc)])"
   ]
  },
  {
   "cell_type": "code",
   "execution_count": 47,
   "metadata": {},
   "outputs": [],
   "source": [
    "from sklearn.tree import DecisionTreeClassifier\n",
    "decision_tree = DecisionTreeClassifier()\n",
    "\n",
    "my_model_5 = Pipeline(steps=[\n",
    "('imputer', my_imputer),\n",
    "('model', decision_tree)])"
   ]
  },
  {
   "cell_type": "code",
   "execution_count": 48,
   "metadata": {},
   "outputs": [],
   "source": [
    "from sklearn import linear_model\n",
    "from sklearn.linear_model import SGDClassifier\n",
    "sgd = linear_model.SGDClassifier(max_iter=5, tol=None)\n",
    "\n",
    "my_model_6 = Pipeline(steps=[\n",
    "('imputer', my_imputer),\n",
    "('model', sgd)])"
   ]
  },
  {
   "cell_type": "code",
   "execution_count": 49,
   "metadata": {},
   "outputs": [],
   "source": [
    "input_data = all_data_output.drop(['is_fraud'], axis=1)"
   ]
  },
  {
   "cell_type": "code",
   "execution_count": 50,
   "metadata": {},
   "outputs": [
    {
     "data": {
      "text/html": [
       "<div>\n",
       "<style scoped>\n",
       "    .dataframe tbody tr th:only-of-type {\n",
       "        vertical-align: middle;\n",
       "    }\n",
       "\n",
       "    .dataframe tbody tr th {\n",
       "        vertical-align: top;\n",
       "    }\n",
       "\n",
       "    .dataframe thead th {\n",
       "        text-align: right;\n",
       "    }\n",
       "</style>\n",
       "<table border=\"1\" class=\"dataframe\">\n",
       "  <thead>\n",
       "    <tr style=\"text-align: right;\">\n",
       "      <th></th>\n",
       "      <th>Montant_transaction</th>\n",
       "      <th>Type_transaction</th>\n",
       "      <th>Panier_moyen</th>\n",
       "      <th>Nombre_Transactions_10_Dernieres_heures</th>\n",
       "    </tr>\n",
       "  </thead>\n",
       "  <tbody>\n",
       "    <tr>\n",
       "      <th>0</th>\n",
       "      <td>80.600541</td>\n",
       "      <td>9.0</td>\n",
       "      <td>70.355644</td>\n",
       "      <td>0.0</td>\n",
       "    </tr>\n",
       "    <tr>\n",
       "      <th>1</th>\n",
       "      <td>135.300834</td>\n",
       "      <td>9.0</td>\n",
       "      <td>167.572760</td>\n",
       "      <td>0.0</td>\n",
       "    </tr>\n",
       "    <tr>\n",
       "      <th>2</th>\n",
       "      <td>64.697647</td>\n",
       "      <td>10.0</td>\n",
       "      <td>149.669170</td>\n",
       "      <td>5.0</td>\n",
       "    </tr>\n",
       "    <tr>\n",
       "      <th>3</th>\n",
       "      <td>129.709763</td>\n",
       "      <td>7.0</td>\n",
       "      <td>131.733207</td>\n",
       "      <td>0.0</td>\n",
       "    </tr>\n",
       "    <tr>\n",
       "      <th>4</th>\n",
       "      <td>197.145729</td>\n",
       "      <td>9.0</td>\n",
       "      <td>NaN</td>\n",
       "      <td>NaN</td>\n",
       "    </tr>\n",
       "  </tbody>\n",
       "</table>\n",
       "</div>"
      ],
      "text/plain": [
       "   Montant_transaction  Type_transaction  Panier_moyen  \\\n",
       "0            80.600541               9.0     70.355644   \n",
       "1           135.300834               9.0    167.572760   \n",
       "2            64.697647              10.0    149.669170   \n",
       "3           129.709763               7.0    131.733207   \n",
       "4           197.145729               9.0           NaN   \n",
       "\n",
       "   Nombre_Transactions_10_Dernieres_heures  \n",
       "0                                      0.0  \n",
       "1                                      0.0  \n",
       "2                                      5.0  \n",
       "3                                      0.0  \n",
       "4                                      NaN  "
      ]
     },
     "execution_count": 50,
     "metadata": {},
     "output_type": "execute_result"
    }
   ],
   "source": [
    "input_data.head(5)"
   ]
  },
  {
   "cell_type": "code",
   "execution_count": 51,
   "metadata": {},
   "outputs": [],
   "source": [
    "target = all_data_output['is_fraud']"
   ]
  },
  {
   "cell_type": "code",
   "execution_count": 52,
   "metadata": {},
   "outputs": [
    {
     "data": {
      "text/plain": [
       "0    0\n",
       "1    0\n",
       "2    0\n",
       "3    0\n",
       "4    0\n",
       "Name: is_fraud, dtype: int64"
      ]
     },
     "execution_count": 52,
     "metadata": {},
     "output_type": "execute_result"
    }
   ],
   "source": [
    "target.head(5)"
   ]
  },
  {
   "cell_type": "markdown",
   "metadata": {},
   "source": [
    "<font size='4'>What is the best model?</font>"
   ]
  },
  {
   "cell_type": "markdown",
   "metadata": {},
   "source": [
    "We use the cross validation set to understand which model can have better performance. The metrics that we can look, is roc_auc_score, f1_score and accuracy."
   ]
  },
  {
   "cell_type": "code",
   "execution_count": 53,
   "metadata": {},
   "outputs": [],
   "source": [
    "from sklearn.model_selection import cross_val_score\n",
    "from sklearn.metrics import confusion_matrix\n",
    "from sklearn.metrics import f1_score, roc_auc_score, accuracy_score\n",
    "def get_score(model, X, Y, cv):\n",
    "    roc_auc = cross_val_score(model, X, Y, cv=cv, scoring ='roc_auc')\n",
    "    f1 = cross_val_score(model, X, Y, cv=cv, scoring ='f1')\n",
    "    accuracy =cross_val_score(model, X, Y, cv=cv,scoring='accuracy')\n",
    "    return roc_auc, f1, accuracy"
   ]
  },
  {
   "cell_type": "code",
   "execution_count": 54,
   "metadata": {},
   "outputs": [
    {
     "data": {
      "text/plain": [
       "(array([0.90173859, 0.88647004, 0.91285396, 0.89362728, 0.91076141]),\n",
       " array([0.69747899, 0.70222222, 0.73858921, 0.73469388, 0.66666667]),\n",
       " array([0.94      , 0.94416667, 0.9475    , 0.94583333, 0.935     ]))"
      ]
     },
     "execution_count": 54,
     "metadata": {},
     "output_type": "execute_result"
    }
   ],
   "source": [
    "#randomforest\n",
    "get_score(my_model_1, input_data, target, 5)"
   ]
  },
  {
   "cell_type": "code",
   "execution_count": 55,
   "metadata": {},
   "outputs": [
    {
     "data": {
      "text/plain": [
       "(array([0.84811599, 0.84388123, 0.85545767, 0.84978294, 0.87690103]),\n",
       " array([0.45360825, 0.51428571, 0.54455446, 0.5388601 , 0.52040816]),\n",
       " array([0.91166667, 0.915     , 0.92333333, 0.92583333, 0.92166667]))"
      ]
     },
     "execution_count": 55,
     "metadata": {},
     "output_type": "execute_result"
    }
   ],
   "source": [
    "#logistic Regression\n",
    "get_score(my_model_2, input_data, target,5)"
   ]
  },
  {
   "cell_type": "code",
   "execution_count": 56,
   "metadata": {},
   "outputs": [
    {
     "data": {
      "text/plain": [
       "(array([0.85253518, 0.86283481, 0.84760527, 0.86379242, 0.87895812]),\n",
       " array([0.51908397, 0.57915058, 0.60869565, 0.57587549, 0.58039216]),\n",
       " array([0.895     , 0.90916667, 0.9175    , 0.90916667, 0.91083333]))"
      ]
     },
     "execution_count": 56,
     "metadata": {},
     "output_type": "execute_result"
    }
   ],
   "source": [
    "#GaussianNB\n",
    "get_score(my_model_3, input_data, target,5)"
   ]
  },
  {
   "cell_type": "code",
   "execution_count": 57,
   "metadata": {},
   "outputs": [
    {
     "name": "stderr",
     "output_type": "stream",
     "text": [
      "/Library/Frameworks/Python.framework/Versions/3.7/lib/python3.7/site-packages/sklearn/svm/_base.py:977: ConvergenceWarning: Liblinear failed to converge, increase the number of iterations.\n",
      "  \"the number of iterations.\", ConvergenceWarning)\n",
      "/Library/Frameworks/Python.framework/Versions/3.7/lib/python3.7/site-packages/sklearn/svm/_base.py:977: ConvergenceWarning: Liblinear failed to converge, increase the number of iterations.\n",
      "  \"the number of iterations.\", ConvergenceWarning)\n",
      "/Library/Frameworks/Python.framework/Versions/3.7/lib/python3.7/site-packages/sklearn/svm/_base.py:977: ConvergenceWarning: Liblinear failed to converge, increase the number of iterations.\n",
      "  \"the number of iterations.\", ConvergenceWarning)\n",
      "/Library/Frameworks/Python.framework/Versions/3.7/lib/python3.7/site-packages/sklearn/svm/_base.py:977: ConvergenceWarning: Liblinear failed to converge, increase the number of iterations.\n",
      "  \"the number of iterations.\", ConvergenceWarning)\n",
      "/Library/Frameworks/Python.framework/Versions/3.7/lib/python3.7/site-packages/sklearn/svm/_base.py:977: ConvergenceWarning: Liblinear failed to converge, increase the number of iterations.\n",
      "  \"the number of iterations.\", ConvergenceWarning)\n",
      "/Library/Frameworks/Python.framework/Versions/3.7/lib/python3.7/site-packages/sklearn/svm/_base.py:977: ConvergenceWarning: Liblinear failed to converge, increase the number of iterations.\n",
      "  \"the number of iterations.\", ConvergenceWarning)\n",
      "/Library/Frameworks/Python.framework/Versions/3.7/lib/python3.7/site-packages/sklearn/svm/_base.py:977: ConvergenceWarning: Liblinear failed to converge, increase the number of iterations.\n",
      "  \"the number of iterations.\", ConvergenceWarning)\n",
      "/Library/Frameworks/Python.framework/Versions/3.7/lib/python3.7/site-packages/sklearn/svm/_base.py:977: ConvergenceWarning: Liblinear failed to converge, increase the number of iterations.\n",
      "  \"the number of iterations.\", ConvergenceWarning)\n",
      "/Library/Frameworks/Python.framework/Versions/3.7/lib/python3.7/site-packages/sklearn/svm/_base.py:977: ConvergenceWarning: Liblinear failed to converge, increase the number of iterations.\n",
      "  \"the number of iterations.\", ConvergenceWarning)\n",
      "/Library/Frameworks/Python.framework/Versions/3.7/lib/python3.7/site-packages/sklearn/svm/_base.py:977: ConvergenceWarning: Liblinear failed to converge, increase the number of iterations.\n",
      "  \"the number of iterations.\", ConvergenceWarning)\n",
      "/Library/Frameworks/Python.framework/Versions/3.7/lib/python3.7/site-packages/sklearn/svm/_base.py:977: ConvergenceWarning: Liblinear failed to converge, increase the number of iterations.\n",
      "  \"the number of iterations.\", ConvergenceWarning)\n",
      "/Library/Frameworks/Python.framework/Versions/3.7/lib/python3.7/site-packages/sklearn/svm/_base.py:977: ConvergenceWarning: Liblinear failed to converge, increase the number of iterations.\n",
      "  \"the number of iterations.\", ConvergenceWarning)\n",
      "/Library/Frameworks/Python.framework/Versions/3.7/lib/python3.7/site-packages/sklearn/svm/_base.py:977: ConvergenceWarning: Liblinear failed to converge, increase the number of iterations.\n",
      "  \"the number of iterations.\", ConvergenceWarning)\n",
      "/Library/Frameworks/Python.framework/Versions/3.7/lib/python3.7/site-packages/sklearn/svm/_base.py:977: ConvergenceWarning: Liblinear failed to converge, increase the number of iterations.\n",
      "  \"the number of iterations.\", ConvergenceWarning)\n",
      "/Library/Frameworks/Python.framework/Versions/3.7/lib/python3.7/site-packages/sklearn/svm/_base.py:977: ConvergenceWarning: Liblinear failed to converge, increase the number of iterations.\n",
      "  \"the number of iterations.\", ConvergenceWarning)\n"
     ]
    },
    {
     "data": {
      "text/plain": [
       "(array([0.73705453, 0.83393627, 0.85231529, 0.84440614, 0.81440103]),\n",
       " array([0.19047619, 0.36470588, 0.3803681 , 0.5203252 , 0.42696629]),\n",
       " array([0.90083333, 0.91      , 0.91583333, 0.90166667, 0.915     ]))"
      ]
     },
     "execution_count": 57,
     "metadata": {},
     "output_type": "execute_result"
    }
   ],
   "source": [
    "#support veactor machine\n",
    "get_score(my_model_4, input_data, target,5)"
   ]
  },
  {
   "cell_type": "code",
   "execution_count": 58,
   "metadata": {},
   "outputs": [
    {
     "data": {
      "text/plain": [
       "(array([0.79762513, 0.7738764 , 0.81750085, 0.81984168, 0.79149642]),\n",
       " array([0.63076923, 0.63157895, 0.66914498, 0.67169811, 0.63082437]),\n",
       " array([0.9225    , 0.9275    , 0.92416667, 0.92583333, 0.92166667]))"
      ]
     },
     "execution_count": 58,
     "metadata": {},
     "output_type": "execute_result"
    }
   ],
   "source": [
    "#decision tree\n",
    "get_score(my_model_5, input_data, target, 5)"
   ]
  },
  {
   "cell_type": "code",
   "execution_count": 59,
   "metadata": {},
   "outputs": [
    {
     "data": {
      "text/plain": [
       "(array([0.73409658, 0.72707411, 0.77213852, 0.79380178, 0.81721002]),\n",
       " array([0.31325301, 0.24836601, 0.275     , 0.07142857, 0.46013667]),\n",
       " array([0.90916667, 0.90333333, 0.91083333, 0.8975    , 0.8975    ]))"
      ]
     },
     "execution_count": 59,
     "metadata": {},
     "output_type": "execute_result"
    }
   ],
   "source": [
    "#stochastic gradient descent\n",
    "get_score(my_model_6, input_data, target,5)"
   ]
  },
  {
   "cell_type": "markdown",
   "metadata": {},
   "source": [
    "The best model using the mentioned metrics, is random forest. Now, we should improve our hyperparameters for random forest."
   ]
  },
  {
   "cell_type": "markdown",
   "metadata": {},
   "source": [
    "<font size='5'>Improving the model:</font>"
   ]
  },
  {
   "cell_type": "markdown",
   "metadata": {},
   "source": [
    "We write a function to give us back roc_auc score and f1 score in terms of n_estimators in random forest model. "
   ]
  },
  {
   "cell_type": "code",
   "execution_count": 60,
   "metadata": {},
   "outputs": [],
   "source": [
    "def get_estimator (n):\n",
    "    rf_model= Pipeline(steps=[\n",
    "    ('knn_imputer',KNNImputer(n_neighbors = 5, weights='uniform', metric='nan_euclidean', copy = True)),\n",
    "    ('rf',RandomForestClassifier(n_estimators=n,random_state=0))])\n",
    "    return get_score(rf_model, input_data, target,5)"
   ]
  },
  {
   "cell_type": "markdown",
   "metadata": {},
   "source": [
    "We write a dictionary whose keys are different n_estimators in random forest starting from 50 to 1050 with 50 steps and value of each key gives back roc_auc_score, f1_score and accuracy.   "
   ]
  },
  {
   "cell_type": "code",
   "execution_count": 61,
   "metadata": {},
   "outputs": [],
   "source": [
    "first = 50\n",
    "last = 1050\n",
    "steps = 50"
   ]
  },
  {
   "cell_type": "code",
   "execution_count": 62,
   "metadata": {},
   "outputs": [],
   "source": [
    "scores = {i:get_estimator(i) for i in range(first,last,steps)}"
   ]
  },
  {
   "cell_type": "code",
   "execution_count": 63,
   "metadata": {},
   "outputs": [
    {
     "data": {
      "text/plain": [
       "(array([0.90173859, 0.88647004, 0.91285396, 0.89362728, 0.91076141]),\n",
       " array([0.69747899, 0.70222222, 0.73858921, 0.73469388, 0.66666667]),\n",
       " array([0.94      , 0.94416667, 0.9475    , 0.94583333, 0.935     ]))"
      ]
     },
     "execution_count": 63,
     "metadata": {},
     "output_type": "execute_result"
    }
   ],
   "source": [
    "scores[50]"
   ]
  },
  {
   "cell_type": "markdown",
   "metadata": {},
   "source": [
    "Now we make a list from the mean of roc_auc_scores (we have cv=5 in cross validation set) for each \"n_estimators\". We do make similar lists for f1_score and accuracy."
   ]
  },
  {
   "cell_type": "code",
   "execution_count": 64,
   "metadata": {},
   "outputs": [],
   "source": [
    "roc_auc = [scores[i][0].mean() for i in range(first, last,steps)]\n",
    "f1 = [scores[i][1].mean() for i in range(first,last,steps)]\n",
    "accuracy = [scores[i][2].mean() for i in range(first,last,steps)]"
   ]
  },
  {
   "cell_type": "code",
   "execution_count": 65,
   "metadata": {},
   "outputs": [
    {
     "data": {
      "text/plain": [
       "[<matplotlib.lines.Line2D at 0x10b7ac0f0>]"
      ]
     },
     "execution_count": 65,
     "metadata": {},
     "output_type": "execute_result"
    },
    {
     "data": {
      "image/png": "[encoded data removed]",
      "text/plain": [
       "<Figure size 432x288 with 1 Axes>"
      ]
     },
     "metadata": {
      "needs_background": "light"
     },
     "output_type": "display_data"
    }
   ],
   "source": [
    "#we plot the variation of roc_auc in terms of n_estimators \n",
    "plt.title('roc_auc variation')\n",
    "plt.plot(list(scores.keys()),roc_auc)"
   ]
  },
  {
   "cell_type": "code",
   "execution_count": 66,
   "metadata": {},
   "outputs": [
    {
     "data": {
      "text/plain": [
       "[<matplotlib.lines.Line2D at 0x10b7accf8>]"
      ]
     },
     "execution_count": 66,
     "metadata": {},
     "output_type": "execute_result"
    },
    {
     "data": {
      "image/png": "[encoded data removed]",
      "text/plain": [
       "<Figure size 432x288 with 1 Axes>"
      ]
     },
     "metadata": {
      "needs_background": "light"
     },
     "output_type": "display_data"
    }
   ],
   "source": [
    "plt.title('f1 variation')\n",
    "plt.plot(list(scores.keys()),f1)"
   ]
  },
  {
   "cell_type": "code",
   "execution_count": 67,
   "metadata": {},
   "outputs": [
    {
     "data": {
      "text/plain": [
       "[<matplotlib.lines.Line2D at 0x10b7dcb00>]"
      ]
     },
     "execution_count": 67,
     "metadata": {},
     "output_type": "execute_result"
    },
    {
     "data": {
      "image/png": "[encoded data removed]",
      "text/plain": [
       "<Figure size 432x288 with 1 Axes>"
      ]
     },
     "metadata": {
      "needs_background": "light"
     },
     "output_type": "display_data"
    }
   ],
   "source": [
    "plt.title('accuracy variation')\n",
    "plt.plot(list(scores.keys()),accuracy)"
   ]
  },
  {
   "cell_type": "markdown",
   "metadata": {},
   "source": [
    "For n_estimators=500 or 950 we have higher roc_auc_score. We can write confusion matrix for our model for the case n_estimators=500 or 950 to see which one is better."
   ]
  },
  {
   "cell_type": "code",
   "execution_count": 68,
   "metadata": {},
   "outputs": [
    {
     "data": {
      "text/plain": [
       "array([[5243,   97],\n",
       "       [ 234,  426]])"
      ]
     },
     "execution_count": 68,
     "metadata": {},
     "output_type": "execute_result"
    }
   ],
   "source": [
    "from sklearn.model_selection import cross_val_predict\n",
    "from sklearn.metrics import confusion_matrix\n",
    "rf= Pipeline(steps=[\n",
    "    ('knn_imputer',KNNImputer(n_neighbors = 5, weights='uniform', metric='nan_euclidean', copy = True)),\n",
    "    ('rf',RandomForestClassifier(n_estimators=500,random_state=0))])\n",
    "predictions = cross_val_predict(rf,input_data, target, cv=5)\n",
    "confusion_matrix(target, predictions)"
   ]
  },
  {
   "cell_type": "code",
   "execution_count": 69,
   "metadata": {},
   "outputs": [
    {
     "data": {
      "text/plain": [
       "array([[5239,  101],\n",
       "       [ 236,  424]])"
      ]
     },
     "execution_count": 69,
     "metadata": {},
     "output_type": "execute_result"
    }
   ],
   "source": [
    "rf_1= Pipeline(steps=[\n",
    "    ('knn_imputer',KNNImputer(n_neighbors = 5, weights='uniform', metric='nan_euclidean', copy = True)),\n",
    "    ('rf',RandomForestClassifier(n_estimators=950,random_state=0))])\n",
    "predictions1 = cross_val_predict(rf_1,input_data, target, cv=5)\n",
    "confusion_matrix(target, predictions1)"
   ]
  },
  {
   "cell_type": "markdown",
   "metadata": {},
   "source": [
    "The model 'rf' has a bit better performance than the model 'rf_1'. So we will take this as our model later!"
   ]
  },
  {
   "cell_type": "code",
   "execution_count": 70,
   "metadata": {},
   "outputs": [
    {
     "data": {
      "text/plain": [
       "0.8859037148569491"
      ]
     },
     "execution_count": 70,
     "metadata": {},
     "output_type": "execute_result"
    }
   ],
   "source": [
    "#the area under roc_curve using the model 'rf' and using cross valiadtion score\n",
    "from sklearn.metrics import roc_auc_score\n",
    "roc_auc_score(predictions, target)"
   ]
  },
  {
   "cell_type": "markdown",
   "metadata": {},
   "source": [
    "Now, we plot roc_curve and compute the area under this curve:"
   ]
  },
  {
   "cell_type": "code",
   "execution_count": 71,
   "metadata": {},
   "outputs": [],
   "source": [
    "from sklearn.metrics import roc_curve, auc\n",
    "from sklearn import metrics\n",
    "from sklearn.model_selection import train_test_split\n",
    "#split to train and valid sets\n",
    "X_train, X_valid, y_train, y_valid = train_test_split(input_data, target, test_size=0.25, random_state = 0)\n",
    "rf.fit(X_train, y_train)\n",
    "\n",
    "prob_pred = rf.predict_proba(X_valid)[:,1]\n",
    "false_positive_rate, true_positive_rate, threshold = roc_curve(y_valid, prob_pred)"
   ]
  },
  {
   "cell_type": "code",
   "execution_count": 72,
   "metadata": {},
   "outputs": [
    {
     "name": "stdout",
     "output_type": "stream",
     "text": [
      "0.9047324942355368\n"
     ]
    },
    {
     "data": {
      "image/png": "[encoded data removed]",
      "text/plain": [
       "<Figure size 432x288 with 1 Axes>"
      ]
     },
     "metadata": {
      "needs_background": "light"
     },
     "output_type": "display_data"
    }
   ],
   "source": [
    "plt.title('Receiver Operating Characteristic')\n",
    "plt.plot(false_positive_rate, true_positive_rate)\n",
    "print(roc_auc_score(y_valid, prob_pred))"
   ]
  },
  {
   "cell_type": "markdown",
   "metadata": {},
   "source": [
    "The curve passes not too far the upper left corner. So, until now, our model is not that bad with roc_auc_score."
   ]
  },
  {
   "cell_type": "markdown",
   "metadata": {},
   "source": [
    "Now we can improve our model by some process on our data and our features!"
   ]
  },
  {
   "cell_type": "markdown",
   "metadata": {},
   "source": [
    "<font size=\"5\">Create New features:</font>"
   ]
  },
  {
   "cell_type": "markdown",
   "metadata": {},
   "source": [
    "We start to look at the feature 'Type_transaction'. We have fraud in the type transactions 1, 2, 7, 9, 10. We can compute the rate of  fraud transactions for each type of transaction.\n",
    "For example, for type 1, among 131 transactions we have 62 fraud transactions and 69 valid transactions. So \n",
    "this type 1 not is really not secured."
   ]
  },
  {
   "cell_type": "code",
   "execution_count": 73,
   "metadata": {},
   "outputs": [
    {
     "name": "stdout",
     "output_type": "stream",
     "text": [
      "fraud transaction in type 1:  47%\n",
      "fraud transaction in type 2:  13%\n",
      "fraud transaction in type 7:  5%\n",
      "fraud transaction in type 9:  20%\n",
      "fraud transaction in type 10:  10%\n"
     ]
    }
   ],
   "source": [
    "print(\"fraud transaction in type 1: \", \"{:.0%}\".format(len(fraud[fraud['Type_transaction']==1])/float(\n",
    "    len(all_data_output[all_data_output['Type_transaction']==1]))))\n",
    "\n",
    "print(\"fraud transaction in type 2: \", \"{:.0%}\".format(len(fraud[fraud['Type_transaction']==2])/float(\n",
    "    len(all_data_output[all_data_output['Type_transaction']==2]))))\n",
    "\n",
    "print(\"fraud transaction in type 7: \", \"{:.0%}\".format(len(fraud[fraud['Type_transaction']==7])/float(\n",
    "    len(all_data_output[all_data_output['Type_transaction']==7]))))\n",
    "\n",
    "print(\"fraud transaction in type 9: \", \"{:.0%}\".format(len(fraud[fraud['Type_transaction']==9])/float(\n",
    "    len(all_data_output[all_data_output['Type_transaction']==9]))))\n",
    "\n",
    "print(\"fraud transaction in type 10: \", \"{:.0%}\".format(len(fraud[fraud['Type_transaction']==10])/float(\n",
    "    len(all_data_output[all_data_output['Type_transaction']==10]))))"
   ]
  },
  {
   "cell_type": "markdown",
   "metadata": {},
   "source": [
    "We can give a weight to each type of transaction and create a new feature. The weight can be the probability of fraud transaction in each type. For example, we can take the weight 0.47 for each transaction with type 1. After adding this feature and running our model, its performance was not improved!\n",
    "\n"
   ]
  },
  {
   "cell_type": "markdown",
   "metadata": {},
   "source": [
    "Let's try to find another feature. To me for a transaction with high number of transactions in the last 10 hours and high amount of transactions, the probabilty of being fraud is higher. We can create a new feature by multiplying of 'Nombre_Transactions_10_Dernieres_heures' and 'Montant_transaction'. With this feature we still couldn't get higher roc_auc_score!"
   ]
  },
  {
   "cell_type": "markdown",
   "metadata": {},
   "source": [
    "<font size=\"3.5\">New feature:</font>"
   ]
  },
  {
   "cell_type": "markdown",
   "metadata": {},
   "source": [
    "In this new feature, we take in consideration the amount of the average basket. We consider the ratio 'Montant_transaction'/ ('Montant_transaction' + 'Panier_moyen'), which is a number between 0 and 1 that measures how far the transaction is from the average basket. Since there are fraudulous transactions with an amount that is lower than the average basket, but with a high number of transactions within the last 10 hours, we multiply this ratio by the square of the number of transactions to detect them."
   ]
  },
  {
   "cell_type": "code",
   "execution_count": 74,
   "metadata": {},
   "outputs": [],
   "source": [
    "datas = [all_data_output, all_test]\n",
    "for dataset in datas:\n",
    "    dataset['Ratio_nombre'] = ((dataset['Montant_transaction'])/(dataset['Panier_moyen'] + dataset['Montant_transaction']))*(1+dataset['Nombre_Transactions_10_Dernieres_heures'])*(1+dataset['Nombre_Transactions_10_Dernieres_heures'])\n",
    "\n",
    "    \n",
    "    \n"
   ]
  },
  {
   "cell_type": "code",
   "execution_count": 75,
   "metadata": {},
   "outputs": [
    {
     "data": {
      "text/html": [
       "<div>\n",
       "<style scoped>\n",
       "    .dataframe tbody tr th:only-of-type {\n",
       "        vertical-align: middle;\n",
       "    }\n",
       "\n",
       "    .dataframe tbody tr th {\n",
       "        vertical-align: top;\n",
       "    }\n",
       "\n",
       "    .dataframe thead th {\n",
       "        text-align: right;\n",
       "    }\n",
       "</style>\n",
       "<table border=\"1\" class=\"dataframe\">\n",
       "  <thead>\n",
       "    <tr style=\"text-align: right;\">\n",
       "      <th></th>\n",
       "      <th>Montant_transaction</th>\n",
       "      <th>Type_transaction</th>\n",
       "      <th>Panier_moyen</th>\n",
       "      <th>Nombre_Transactions_10_Dernieres_heures</th>\n",
       "      <th>is_fraud</th>\n",
       "      <th>Ratio_nombre</th>\n",
       "    </tr>\n",
       "  </thead>\n",
       "  <tbody>\n",
       "    <tr>\n",
       "      <th>0</th>\n",
       "      <td>80.600541</td>\n",
       "      <td>9.0</td>\n",
       "      <td>70.355644</td>\n",
       "      <td>0.0</td>\n",
       "      <td>0</td>\n",
       "      <td>0.533933</td>\n",
       "    </tr>\n",
       "    <tr>\n",
       "      <th>1</th>\n",
       "      <td>135.300834</td>\n",
       "      <td>9.0</td>\n",
       "      <td>167.572760</td>\n",
       "      <td>0.0</td>\n",
       "      <td>0</td>\n",
       "      <td>0.446724</td>\n",
       "    </tr>\n",
       "    <tr>\n",
       "      <th>2</th>\n",
       "      <td>64.697647</td>\n",
       "      <td>10.0</td>\n",
       "      <td>149.669170</td>\n",
       "      <td>5.0</td>\n",
       "      <td>0</td>\n",
       "      <td>10.865093</td>\n",
       "    </tr>\n",
       "    <tr>\n",
       "      <th>3</th>\n",
       "      <td>129.709763</td>\n",
       "      <td>7.0</td>\n",
       "      <td>131.733207</td>\n",
       "      <td>0.0</td>\n",
       "      <td>0</td>\n",
       "      <td>0.496130</td>\n",
       "    </tr>\n",
       "    <tr>\n",
       "      <th>4</th>\n",
       "      <td>197.145729</td>\n",
       "      <td>9.0</td>\n",
       "      <td>NaN</td>\n",
       "      <td>NaN</td>\n",
       "      <td>0</td>\n",
       "      <td>NaN</td>\n",
       "    </tr>\n",
       "    <tr>\n",
       "      <th>5</th>\n",
       "      <td>112.397940</td>\n",
       "      <td>7.0</td>\n",
       "      <td>158.568678</td>\n",
       "      <td>1.0</td>\n",
       "      <td>0</td>\n",
       "      <td>1.659215</td>\n",
       "    </tr>\n",
       "    <tr>\n",
       "      <th>6</th>\n",
       "      <td>141.176796</td>\n",
       "      <td>9.0</td>\n",
       "      <td>209.907891</td>\n",
       "      <td>6.0</td>\n",
       "      <td>0</td>\n",
       "      <td>19.703688</td>\n",
       "    </tr>\n",
       "    <tr>\n",
       "      <th>7</th>\n",
       "      <td>281.876321</td>\n",
       "      <td>7.0</td>\n",
       "      <td>NaN</td>\n",
       "      <td>NaN</td>\n",
       "      <td>0</td>\n",
       "      <td>NaN</td>\n",
       "    </tr>\n",
       "    <tr>\n",
       "      <th>8</th>\n",
       "      <td>69.499287</td>\n",
       "      <td>7.0</td>\n",
       "      <td>130.796898</td>\n",
       "      <td>3.0</td>\n",
       "      <td>0</td>\n",
       "      <td>5.551721</td>\n",
       "    </tr>\n",
       "    <tr>\n",
       "      <th>9</th>\n",
       "      <td>22.361063</td>\n",
       "      <td>10.0</td>\n",
       "      <td>NaN</td>\n",
       "      <td>NaN</td>\n",
       "      <td>0</td>\n",
       "      <td>NaN</td>\n",
       "    </tr>\n",
       "  </tbody>\n",
       "</table>\n",
       "</div>"
      ],
      "text/plain": [
       "   Montant_transaction  Type_transaction  Panier_moyen  \\\n",
       "0            80.600541               9.0     70.355644   \n",
       "1           135.300834               9.0    167.572760   \n",
       "2            64.697647              10.0    149.669170   \n",
       "3           129.709763               7.0    131.733207   \n",
       "4           197.145729               9.0           NaN   \n",
       "5           112.397940               7.0    158.568678   \n",
       "6           141.176796               9.0    209.907891   \n",
       "7           281.876321               7.0           NaN   \n",
       "8            69.499287               7.0    130.796898   \n",
       "9            22.361063              10.0           NaN   \n",
       "\n",
       "   Nombre_Transactions_10_Dernieres_heures  is_fraud  Ratio_nombre  \n",
       "0                                      0.0         0      0.533933  \n",
       "1                                      0.0         0      0.446724  \n",
       "2                                      5.0         0     10.865093  \n",
       "3                                      0.0         0      0.496130  \n",
       "4                                      NaN         0           NaN  \n",
       "5                                      1.0         0      1.659215  \n",
       "6                                      6.0         0     19.703688  \n",
       "7                                      NaN         0           NaN  \n",
       "8                                      3.0         0      5.551721  \n",
       "9                                      NaN         0           NaN  "
      ]
     },
     "execution_count": 75,
     "metadata": {},
     "output_type": "execute_result"
    }
   ],
   "source": [
    "all_data_output.head(10)"
   ]
  },
  {
   "cell_type": "code",
   "execution_count": 76,
   "metadata": {},
   "outputs": [],
   "source": [
    "all_data_feature = all_data_output.drop(['is_fraud'], axis=1)\n",
    "all_test_feature = all_test.drop(['id_transaction'], axis=1).copy()"
   ]
  },
  {
   "cell_type": "code",
   "execution_count": 77,
   "metadata": {},
   "outputs": [
    {
     "data": {
      "text/html": [
       "<div>\n",
       "<style scoped>\n",
       "    .dataframe tbody tr th:only-of-type {\n",
       "        vertical-align: middle;\n",
       "    }\n",
       "\n",
       "    .dataframe tbody tr th {\n",
       "        vertical-align: top;\n",
       "    }\n",
       "\n",
       "    .dataframe thead th {\n",
       "        text-align: right;\n",
       "    }\n",
       "</style>\n",
       "<table border=\"1\" class=\"dataframe\">\n",
       "  <thead>\n",
       "    <tr style=\"text-align: right;\">\n",
       "      <th></th>\n",
       "      <th>Montant_transaction</th>\n",
       "      <th>Type_transaction</th>\n",
       "      <th>Panier_moyen</th>\n",
       "      <th>Nombre_Transactions_10_Dernieres_heures</th>\n",
       "      <th>Ratio_nombre</th>\n",
       "    </tr>\n",
       "  </thead>\n",
       "  <tbody>\n",
       "    <tr>\n",
       "      <th>0</th>\n",
       "      <td>80.600541</td>\n",
       "      <td>9.0</td>\n",
       "      <td>70.355644</td>\n",
       "      <td>0.0</td>\n",
       "      <td>0.533933</td>\n",
       "    </tr>\n",
       "    <tr>\n",
       "      <th>1</th>\n",
       "      <td>135.300834</td>\n",
       "      <td>9.0</td>\n",
       "      <td>167.572760</td>\n",
       "      <td>0.0</td>\n",
       "      <td>0.446724</td>\n",
       "    </tr>\n",
       "    <tr>\n",
       "      <th>2</th>\n",
       "      <td>64.697647</td>\n",
       "      <td>10.0</td>\n",
       "      <td>149.669170</td>\n",
       "      <td>5.0</td>\n",
       "      <td>10.865093</td>\n",
       "    </tr>\n",
       "    <tr>\n",
       "      <th>3</th>\n",
       "      <td>129.709763</td>\n",
       "      <td>7.0</td>\n",
       "      <td>131.733207</td>\n",
       "      <td>0.0</td>\n",
       "      <td>0.496130</td>\n",
       "    </tr>\n",
       "    <tr>\n",
       "      <th>4</th>\n",
       "      <td>197.145729</td>\n",
       "      <td>9.0</td>\n",
       "      <td>NaN</td>\n",
       "      <td>NaN</td>\n",
       "      <td>NaN</td>\n",
       "    </tr>\n",
       "  </tbody>\n",
       "</table>\n",
       "</div>"
      ],
      "text/plain": [
       "   Montant_transaction  Type_transaction  Panier_moyen  \\\n",
       "0            80.600541               9.0     70.355644   \n",
       "1           135.300834               9.0    167.572760   \n",
       "2            64.697647              10.0    149.669170   \n",
       "3           129.709763               7.0    131.733207   \n",
       "4           197.145729               9.0           NaN   \n",
       "\n",
       "   Nombre_Transactions_10_Dernieres_heures  Ratio_nombre  \n",
       "0                                      0.0      0.533933  \n",
       "1                                      0.0      0.446724  \n",
       "2                                      5.0     10.865093  \n",
       "3                                      0.0      0.496130  \n",
       "4                                      NaN           NaN  "
      ]
     },
     "execution_count": 77,
     "metadata": {},
     "output_type": "execute_result"
    }
   ],
   "source": [
    "all_data_feature.head(5)"
   ]
  },
  {
   "cell_type": "code",
   "execution_count": 78,
   "metadata": {},
   "outputs": [
    {
     "data": {
      "text/html": [
       "<div>\n",
       "<style scoped>\n",
       "    .dataframe tbody tr th:only-of-type {\n",
       "        vertical-align: middle;\n",
       "    }\n",
       "\n",
       "    .dataframe tbody tr th {\n",
       "        vertical-align: top;\n",
       "    }\n",
       "\n",
       "    .dataframe thead th {\n",
       "        text-align: right;\n",
       "    }\n",
       "</style>\n",
       "<table border=\"1\" class=\"dataframe\">\n",
       "  <thead>\n",
       "    <tr style=\"text-align: right;\">\n",
       "      <th></th>\n",
       "      <th>Montant_transaction</th>\n",
       "      <th>Type_transaction</th>\n",
       "      <th>Panier_moyen</th>\n",
       "      <th>Nombre_Transactions_10_Dernieres_heures</th>\n",
       "      <th>Ratio_nombre</th>\n",
       "    </tr>\n",
       "  </thead>\n",
       "  <tbody>\n",
       "    <tr>\n",
       "      <th>0</th>\n",
       "      <td>224.816268</td>\n",
       "      <td>7.0</td>\n",
       "      <td>NaN</td>\n",
       "      <td>NaN</td>\n",
       "      <td>NaN</td>\n",
       "    </tr>\n",
       "    <tr>\n",
       "      <th>1</th>\n",
       "      <td>60.859179</td>\n",
       "      <td>7.0</td>\n",
       "      <td>NaN</td>\n",
       "      <td>NaN</td>\n",
       "      <td>NaN</td>\n",
       "    </tr>\n",
       "    <tr>\n",
       "      <th>2</th>\n",
       "      <td>102.417124</td>\n",
       "      <td>9.0</td>\n",
       "      <td>NaN</td>\n",
       "      <td>NaN</td>\n",
       "      <td>NaN</td>\n",
       "    </tr>\n",
       "    <tr>\n",
       "      <th>3</th>\n",
       "      <td>167.983158</td>\n",
       "      <td>9.0</td>\n",
       "      <td>121.925254</td>\n",
       "      <td>17.0</td>\n",
       "      <td>187.737027</td>\n",
       "    </tr>\n",
       "    <tr>\n",
       "      <th>4</th>\n",
       "      <td>478.561682</td>\n",
       "      <td>7.0</td>\n",
       "      <td>153.003607</td>\n",
       "      <td>0.0</td>\n",
       "      <td>0.757739</td>\n",
       "    </tr>\n",
       "  </tbody>\n",
       "</table>\n",
       "</div>"
      ],
      "text/plain": [
       "   Montant_transaction  Type_transaction  Panier_moyen  \\\n",
       "0           224.816268               7.0           NaN   \n",
       "1            60.859179               7.0           NaN   \n",
       "2           102.417124               9.0           NaN   \n",
       "3           167.983158               9.0    121.925254   \n",
       "4           478.561682               7.0    153.003607   \n",
       "\n",
       "   Nombre_Transactions_10_Dernieres_heures  Ratio_nombre  \n",
       "0                                      NaN           NaN  \n",
       "1                                      NaN           NaN  \n",
       "2                                      NaN           NaN  \n",
       "3                                     17.0    187.737027  \n",
       "4                                      0.0      0.757739  "
      ]
     },
     "execution_count": 78,
     "metadata": {},
     "output_type": "execute_result"
    }
   ],
   "source": [
    "all_test_feature.head(5)"
   ]
  },
  {
   "cell_type": "code",
   "execution_count": 79,
   "metadata": {},
   "outputs": [],
   "source": [
    "ROC, F1, ACCURACY = get_score(rf, all_data_feature, target, 5)"
   ]
  },
  {
   "cell_type": "code",
   "execution_count": 80,
   "metadata": {},
   "outputs": [
    {
     "data": {
      "text/plain": [
       "array([0.92456872, 0.91713483, 0.92968661, 0.92927874, 0.92892762])"
      ]
     },
     "execution_count": 80,
     "metadata": {},
     "output_type": "execute_result"
    }
   ],
   "source": [
    "ROC"
   ]
  },
  {
   "cell_type": "code",
   "execution_count": 81,
   "metadata": {},
   "outputs": [
    {
     "data": {
      "text/plain": [
       "0.9259193054136874"
      ]
     },
     "execution_count": 81,
     "metadata": {},
     "output_type": "execute_result"
    }
   ],
   "source": [
    "ROC.mean()"
   ]
  },
  {
   "cell_type": "markdown",
   "metadata": {},
   "source": [
    "So by adding this feature we have 0.9259193054136874 as roc_aus_score."
   ]
  },
  {
   "cell_type": "markdown",
   "metadata": {},
   "source": [
    "<font size=\"5\">Now it is time for our test data!</font>"
   ]
  },
  {
   "cell_type": "code",
   "execution_count": 82,
   "metadata": {},
   "outputs": [
    {
     "data": {
      "text/html": [
       "<div>\n",
       "<style scoped>\n",
       "    .dataframe tbody tr th:only-of-type {\n",
       "        vertical-align: middle;\n",
       "    }\n",
       "\n",
       "    .dataframe tbody tr th {\n",
       "        vertical-align: top;\n",
       "    }\n",
       "\n",
       "    .dataframe thead th {\n",
       "        text-align: right;\n",
       "    }\n",
       "</style>\n",
       "<table border=\"1\" class=\"dataframe\">\n",
       "  <thead>\n",
       "    <tr style=\"text-align: right;\">\n",
       "      <th></th>\n",
       "      <th>Montant_transaction</th>\n",
       "      <th>Type_transaction</th>\n",
       "      <th>Panier_moyen</th>\n",
       "      <th>Nombre_Transactions_10_Dernieres_heures</th>\n",
       "      <th>Ratio_nombre</th>\n",
       "    </tr>\n",
       "  </thead>\n",
       "  <tbody>\n",
       "    <tr>\n",
       "      <th>0</th>\n",
       "      <td>224.816268</td>\n",
       "      <td>7.0</td>\n",
       "      <td>NaN</td>\n",
       "      <td>NaN</td>\n",
       "      <td>NaN</td>\n",
       "    </tr>\n",
       "    <tr>\n",
       "      <th>1</th>\n",
       "      <td>60.859179</td>\n",
       "      <td>7.0</td>\n",
       "      <td>NaN</td>\n",
       "      <td>NaN</td>\n",
       "      <td>NaN</td>\n",
       "    </tr>\n",
       "    <tr>\n",
       "      <th>2</th>\n",
       "      <td>102.417124</td>\n",
       "      <td>9.0</td>\n",
       "      <td>NaN</td>\n",
       "      <td>NaN</td>\n",
       "      <td>NaN</td>\n",
       "    </tr>\n",
       "    <tr>\n",
       "      <th>3</th>\n",
       "      <td>167.983158</td>\n",
       "      <td>9.0</td>\n",
       "      <td>121.925254</td>\n",
       "      <td>17.0</td>\n",
       "      <td>187.737027</td>\n",
       "    </tr>\n",
       "    <tr>\n",
       "      <th>4</th>\n",
       "      <td>478.561682</td>\n",
       "      <td>7.0</td>\n",
       "      <td>153.003607</td>\n",
       "      <td>0.0</td>\n",
       "      <td>0.757739</td>\n",
       "    </tr>\n",
       "  </tbody>\n",
       "</table>\n",
       "</div>"
      ],
      "text/plain": [
       "   Montant_transaction  Type_transaction  Panier_moyen  \\\n",
       "0           224.816268               7.0           NaN   \n",
       "1            60.859179               7.0           NaN   \n",
       "2           102.417124               9.0           NaN   \n",
       "3           167.983158               9.0    121.925254   \n",
       "4           478.561682               7.0    153.003607   \n",
       "\n",
       "   Nombre_Transactions_10_Dernieres_heures  Ratio_nombre  \n",
       "0                                      NaN           NaN  \n",
       "1                                      NaN           NaN  \n",
       "2                                      NaN           NaN  \n",
       "3                                     17.0    187.737027  \n",
       "4                                      0.0      0.757739  "
      ]
     },
     "execution_count": 82,
     "metadata": {},
     "output_type": "execute_result"
    }
   ],
   "source": [
    "all_test_feature.head(5)"
   ]
  },
  {
   "cell_type": "code",
   "execution_count": 83,
   "metadata": {},
   "outputs": [],
   "source": [
    "Id_transaction = all_test['id_transaction']"
   ]
  },
  {
   "cell_type": "code",
   "execution_count": 84,
   "metadata": {},
   "outputs": [
    {
     "data": {
      "text/plain": [
       "Pipeline(steps=[('knn_imputer', KNNImputer()),\n",
       "                ('rf',\n",
       "                 RandomForestClassifier(n_estimators=500, random_state=0))])"
      ]
     },
     "execution_count": 84,
     "metadata": {},
     "output_type": "execute_result"
    }
   ],
   "source": [
    "#Fit our model to our data and new feature!\n",
    "rf.fit(all_data_feature, target)"
   ]
  },
  {
   "cell_type": "code",
   "execution_count": 85,
   "metadata": {},
   "outputs": [],
   "source": [
    "pred_test= rf.predict(all_test_feature)"
   ]
  },
  {
   "cell_type": "code",
   "execution_count": 86,
   "metadata": {},
   "outputs": [],
   "source": [
    "pred_fraud = pd.DataFrame({'id_transaction': Id_transaction, 'is_fraud': pred_test})"
   ]
  },
  {
   "cell_type": "code",
   "execution_count": 87,
   "metadata": {},
   "outputs": [],
   "source": [
    "pred_fraud.to_csv('pred_fraud.csv', index=False)"
   ]
  },
  {
   "cell_type": "code",
   "execution_count": 88,
   "metadata": {},
   "outputs": [
    {
     "data": {
      "text/html": [
       "<div>\n",
       "<style scoped>\n",
       "    .dataframe tbody tr th:only-of-type {\n",
       "        vertical-align: middle;\n",
       "    }\n",
       "\n",
       "    .dataframe tbody tr th {\n",
       "        vertical-align: top;\n",
       "    }\n",
       "\n",
       "    .dataframe thead th {\n",
       "        text-align: right;\n",
       "    }\n",
       "</style>\n",
       "<table border=\"1\" class=\"dataframe\">\n",
       "  <thead>\n",
       "    <tr style=\"text-align: right;\">\n",
       "      <th></th>\n",
       "      <th>id_transaction</th>\n",
       "      <th>is_fraud</th>\n",
       "    </tr>\n",
       "  </thead>\n",
       "  <tbody>\n",
       "    <tr>\n",
       "      <th>0</th>\n",
       "      <td>6000</td>\n",
       "      <td>0</td>\n",
       "    </tr>\n",
       "    <tr>\n",
       "      <th>1</th>\n",
       "      <td>6001</td>\n",
       "      <td>0</td>\n",
       "    </tr>\n",
       "    <tr>\n",
       "      <th>2</th>\n",
       "      <td>6002</td>\n",
       "      <td>0</td>\n",
       "    </tr>\n",
       "    <tr>\n",
       "      <th>3</th>\n",
       "      <td>6003</td>\n",
       "      <td>1</td>\n",
       "    </tr>\n",
       "    <tr>\n",
       "      <th>4</th>\n",
       "      <td>6004</td>\n",
       "      <td>0</td>\n",
       "    </tr>\n",
       "    <tr>\n",
       "      <th>5</th>\n",
       "      <td>6005</td>\n",
       "      <td>0</td>\n",
       "    </tr>\n",
       "    <tr>\n",
       "      <th>6</th>\n",
       "      <td>6006</td>\n",
       "      <td>0</td>\n",
       "    </tr>\n",
       "    <tr>\n",
       "      <th>7</th>\n",
       "      <td>6007</td>\n",
       "      <td>0</td>\n",
       "    </tr>\n",
       "    <tr>\n",
       "      <th>8</th>\n",
       "      <td>6008</td>\n",
       "      <td>0</td>\n",
       "    </tr>\n",
       "    <tr>\n",
       "      <th>9</th>\n",
       "      <td>6009</td>\n",
       "      <td>0</td>\n",
       "    </tr>\n",
       "  </tbody>\n",
       "</table>\n",
       "</div>"
      ],
      "text/plain": [
       "   id_transaction  is_fraud\n",
       "0            6000         0\n",
       "1            6001         0\n",
       "2            6002         0\n",
       "3            6003         1\n",
       "4            6004         0\n",
       "5            6005         0\n",
       "6            6006         0\n",
       "7            6007         0\n",
       "8            6008         0\n",
       "9            6009         0"
      ]
     },
     "execution_count": 88,
     "metadata": {},
     "output_type": "execute_result"
    }
   ],
   "source": [
    "pred_fraud.head(10)"
   ]
  },
  {
   "cell_type": "code",
   "execution_count": null,
   "metadata": {},
   "outputs": [],
   "source": []
  }
 ],
 "metadata": {
  "kernelspec": {
   "display_name": "Python 3",
   "language": "python",
   "name": "python3"
  },
  "language_info": {
   "codemirror_mode": {
    "name": "ipython",
    "version": 3
   },
   "file_extension": ".py",
   "mimetype": "text/x-python",
   "name": "python",
   "nbconvert_exporter": "python",
   "pygments_lexer": "ipython3",
   "version": "3.7.6"
  }
 },
 "nbformat": 4,
 "nbformat_minor": 2
}
